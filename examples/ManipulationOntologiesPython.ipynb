{
 "cells": [
  {
   "cell_type": "markdown",
   "metadata": {},
   "source": [
    "# Manipulation Ontologies en python"
   ]
  },
  {
   "cell_type": "markdown",
   "metadata": {},
   "source": [
    "## Owlready"
   ]
  },
  {
   "cell_type": "code",
   "execution_count": null,
   "metadata": {
    "scrolled": false
   },
   "outputs": [],
   "source": [
    "from owlready2 import *"
   ]
  },
  {
   "cell_type": "code",
   "execution_count": null,
   "metadata": {
    "scrolled": true
   },
   "outputs": [],
   "source": [
    "ontho = get_ontology(\"file:///home/mbunel/Documents/Ontologie/Relations_spatiales 7.owl\")"
   ]
  },
  {
   "cell_type": "code",
   "execution_count": null,
   "metadata": {
    "scrolled": true
   },
   "outputs": [],
   "source": [
    "ontho.load()"
   ]
  },
  {
   "cell_type": "code",
   "execution_count": null,
   "metadata": {
    "scrolled": false
   },
   "outputs": [],
   "source": [
    "list(ontho.classes())"
   ]
  },
  {
   "cell_type": "code",
   "execution_count": null,
   "metadata": {
    "scrolled": true
   },
   "outputs": [],
   "source": [
    "sync_reasoner()"
   ]
  },
  {
   "cell_type": "code",
   "execution_count": null,
   "metadata": {},
   "outputs": [],
   "source": [
    "close_world(ontho)"
   ]
  },
  {
   "cell_type": "code",
   "execution_count": null,
   "metadata": {},
   "outputs": [],
   "source": [
    "aa = ontho.Relation_spatiale.instances()[0]"
   ]
  },
  {
   "cell_type": "code",
   "execution_count": null,
   "metadata": {},
   "outputs": [],
   "source": [
    "list(aa.get_properties())"
   ]
  },
  {
   "cell_type": "code",
   "execution_count": null,
   "metadata": {
    "scrolled": true
   },
   "outputs": [],
   "source": [
    "[i.isPrepositionOf for i in ontho.Preposition.instances()]"
   ]
  },
  {
   "cell_type": "code",
   "execution_count": null,
   "metadata": {
    "scrolled": true
   },
   "outputs": [],
   "source": [
    "g = default_world.as_rdflib_graph()"
   ]
  },
  {
   "cell_type": "code",
   "execution_count": null,
   "metadata": {
    "scrolled": true
   },
   "outputs": [],
   "source": [
    "list(g.query(\n",
    "    \"\"\"SELECT * \n",
    "    WHERE {\n",
    "        ?a a Ornitho:Relation_spatiale .\n",
    "        ?b Ornitho:isPrepositionOf ?a .\n",
    "    }\"\"\"))"
   ]
  },
  {
   "cell_type": "code",
   "execution_count": null,
   "metadata": {},
   "outputs": [],
   "source": [
    "ontho.prep_PresDe.isPrepositionOf"
   ]
  },
  {
   "cell_type": "markdown",
   "metadata": {},
   "source": [
    "## RDFLib"
   ]
  },
  {
   "cell_type": "code",
   "execution_count": 1,
   "metadata": {},
   "outputs": [],
   "source": [
    "import rdflib\n",
    "from rdflib import RDF, OWL"
   ]
  },
  {
   "cell_type": "code",
   "execution_count": 45,
   "metadata": {},
   "outputs": [],
   "source": [
    "g = rdflib.Graph()\n",
    "result = g.parse(\"/home/mbunel/Documents/Ontologie/Relations_spatiales 7.owl\")"
   ]
  },
  {
   "cell_type": "code",
   "execution_count": 61,
   "metadata": {
    "scrolled": true
   },
   "outputs": [],
   "source": [
    "qres = g.query(\n",
    "    \"\"\"SELECT ?a ?b\n",
    "       WHERE {\n",
    "       ?a a Ornitho:Relation_spatiale ;\n",
    "       Ornitho:hasRelationSpatialeAtomique ?b\n",
    "       }\n",
    "       \"\"\")"
   ]
  },
  {
   "cell_type": "code",
   "execution_count": 63,
   "metadata": {
    "scrolled": false
   },
   "outputs": [
    {
     "data": {
      "text/plain": [
       "[(rdflib.term.URIRef('http://www.semanticweb.org/mbunel/ontologies/Ornitho#rs_SousProcheDe'),\n",
       "  rdflib.term.URIRef('http://www.semanticweb.org/mbunel/ontologies/Ornitho#rsa_OrdreVerticalNegatif')),\n",
       " (rdflib.term.URIRef('http://www.semanticweb.org/mbunel/ontologies/Ornitho#rs_SousProcheDe'),\n",
       "  rdflib.term.URIRef('http://www.semanticweb.org/mbunel/ontologies/Ornitho#rsa_DistanceQuantitative')),\n",
       " (rdflib.term.URIRef('http://www.semanticweb.org/mbunel/ontologies/Ornitho#rs_AuDessusAltitude'),\n",
       "  rdflib.term.URIRef('http://www.semanticweb.org/mbunel/ontologies/Ornitho#rsa_OrdreVerticalPositif'))]"
      ]
     },
     "execution_count": 63,
     "metadata": {},
     "output_type": "execute_result"
    }
   ],
   "source": [
    "list(qres)"
   ]
  },
  {
   "cell_type": "code",
   "execution_count": null,
   "metadata": {},
   "outputs": [],
   "source": []
  },
  {
   "cell_type": "code",
   "execution_count": null,
   "metadata": {},
   "outputs": [],
   "source": [
    "aa = g.triples((\n",
    "    rdflib.term.URIRef('http://www.semanticweb.org/mbunel/ontologies/Ornitho#hasGeographicObject'), \n",
    "    rdflib.term.URIRef('http://www.w3.org/2000/01/rdf-schema#subPropertyOf'),\n",
    "    None))"
   ]
  },
  {
   "cell_type": "code",
   "execution_count": null,
   "metadata": {},
   "outputs": [],
   "source": [
    "aa = g.triples((\n",
    "    rdflib.term.URIRef('http://www.semanticweb.org/mbunel/ontologies/Ornitho#isPrepositionOf'), \n",
    "    None,\n",
    "    None))"
   ]
  },
  {
   "cell_type": "code",
   "execution_count": null,
   "metadata": {
    "scrolled": false
   },
   "outputs": [],
   "source": [
    "for i in aa:\n",
    "    print(i[1:], \"\\n\")"
   ]
  },
  {
   "cell_type": "code",
   "execution_count": null,
   "metadata": {},
   "outputs": [],
   "source": [
    "aa = g.triples((\n",
    "    rdflib.term.BNode('N3ea5e8ce3cbf4a099c1947e01501d804'), \n",
    "    None,\n",
    "    None))\n",
    "\n",
    "for i in aa:\n",
    "    print(i[1:], \"\\n\")"
   ]
  },
  {
   "cell_type": "markdown",
   "metadata": {},
   "source": [
    "## Surf"
   ]
  },
  {
   "cell_type": "code",
   "execution_count": 1,
   "metadata": {},
   "outputs": [],
   "source": [
    "import surf"
   ]
  },
  {
   "cell_type": "code",
   "execution_count": 3,
   "metadata": {},
   "outputs": [
    {
     "data": {
      "text/plain": [
       "True"
      ]
     },
     "execution_count": 3,
     "metadata": {},
     "output_type": "execute_result"
    }
   ],
   "source": [
    "store = surf.Store(reader='rdflib',writer='rdflib',rdflib_store='IOMemory')\n",
    "session = surf.Session(store)\n",
    "store.load_triples(source=\"/home/mbunel/Documents/Code/Ruitor/data/ontologies/relations_spatiales.owl\")"
   ]
  },
  {
   "cell_type": "code",
   "execution_count": 12,
   "metadata": {},
   "outputs": [
    {
     "data": {
      "text/plain": [
       "('NS1', Namespace('<surf.store.Store object at 0x7faeacec50b8>'))"
      ]
     },
     "execution_count": 12,
     "metadata": {},
     "output_type": "execute_result"
    }
   ],
   "source": []
  },
  {
   "cell_type": "code",
   "execution_count": 13,
   "metadata": {},
   "outputs": [],
   "source": [
    "aa = session.get_class('http://www.semanticweb.org/mbunel/ontologies/Ornitho#Relation_spatiale_atomique')"
   ]
  },
  {
   "cell_type": "code",
   "execution_count": 15,
   "metadata": {},
   "outputs": [
    {
     "name": "stdout",
     "output_type": "stream",
     "text": [
      "{http://www.semanticweb.org/mbunel/ontologies/Ornitho#rsa_Contact : http://www.w3.org/2002/07/owl#NamedIndividual}\n",
      "{http://www.semanticweb.org/mbunel/ontologies/Ornitho#rsa_DistanceQuantitative : http://www.w3.org/2002/07/owl#NamedIndividual}\n",
      "{http://www.semanticweb.org/mbunel/ontologies/Ornitho#rsa_OrdreVerticalPositif : http://www.w3.org/2002/07/owl#NamedIndividual}\n",
      "{http://www.semanticweb.org/mbunel/ontologies/Ornitho#rsa_OrdreVerticalNegatif : http://www.w3.org/2002/07/owl#NamedIndividual}\n"
     ]
    }
   ],
   "source": [
    "for a in aa.all():\n",
    "    print(a)"
   ]
  },
  {
   "cell_type": "code",
   "execution_count": 18,
   "metadata": {},
   "outputs": [
    {
     "data": {
      "text/plain": [
       "rdflib.term.URIRef('http://www.semanticweb.org/mbunel/ontologies/Ornitho#Relation_spatiale_atomique')"
      ]
     },
     "execution_count": 18,
     "metadata": {},
     "output_type": "execute_result"
    }
   ],
   "source": [
    "aa.uri"
   ]
  },
  {
   "cell_type": "markdown",
   "metadata": {},
   "source": [
    "## Code manipulation ontologie"
   ]
  },
  {
   "cell_type": "code",
   "execution_count": null,
   "metadata": {},
   "outputs": [],
   "source": [
    "class _RDFMeta(type):\n",
    "    \n",
    "    def __new__(cls, name, bases, dct):\n",
    "        \n",
    "        def __init__(cls, graph):\n",
    "            super(bases[0], cls).__init__(graph)\n",
    "        \n",
    "        dct[\"__init__\"] = __init__\n",
    "        \n",
    "        return super().__new__(cls, name, bases, dct)"
   ]
  },
  {
   "cell_type": "code",
   "execution_count": null,
   "metadata": {
    "scrolled": true
   },
   "outputs": [],
   "source": [
    "class Ontology(object):\n",
    "    \n",
    "    def __init__(self, graph):\n",
    "        self.graph = graph\n",
    "        \n",
    "        # Construction des classes\n",
    "        self._ontologyclasses = {}\n",
    "        \n",
    "        # On appele le constructeur de classe pour chaque classe de l'ontologie\n",
    "        for a in g.triples((None, RDF.type , OWL.Class)):\n",
    "            self.RdfClassConstructor(a[0])\n",
    "        \n",
    "\n",
    "        if False:\n",
    "            self.propertyConstructor()\n",
    "        \n",
    "    def append(self):\n",
    "        pass\n",
    "    \n",
    "    \n",
    "    def uriToName(self, uri, *args, **kwargs):\n",
    "\n",
    "        uriDelimiter = kwargs.get(\"uriDelimiter\", \"#\")\n",
    "\n",
    "        swich = {\n",
    "            rdflib.term.URIRef: lambda x: x.partition(uriDelimiter)[2],\n",
    "            rdflib.term.BNode : lambda x: x.toPython()\n",
    "        }\n",
    "\n",
    "        return swich.get(type(uri), None)(uri)\n",
    "    \n",
    "      \n",
    "    def _subClassConstructor(self, uri):\n",
    "        \n",
    "        # Définition uri subClass\n",
    "        rdf_subClassOf_uri = rdflib.term.URIRef('http://www.w3.org/2000/01/rdf-schema#subClassOf')\n",
    "        \n",
    "        # Extraction des objets qui sont des sous-classes de la\n",
    "        # classe traitée\n",
    "        subclasses = g.triples((uri, rdf_subClassOf_uri, None))\n",
    "        subclasses_instances = []\n",
    "\n",
    "        for subclass in subclasses:\n",
    "            # Récupération de l'uri des sous-classes\n",
    "            subclass_uri = subclass[2]\n",
    "            # Création du nom\n",
    "            subclass_name = self.uriToName(subclass_uri)\n",
    "\n",
    "            # Si la classe n'existe pas on la crée\n",
    "            if subclass_name not in self._ontologyclasses:\n",
    "                print(subclass_name)\n",
    "                self.RdfClassConstructor(subclass_uri)\n",
    "\n",
    "            # Ajout de la classe créée dans le dictionnaire des attribus\n",
    "            if subclass_name not in subclasses_instances:\n",
    "                subclass_instance = self._ontologyclasses.get(subclass_name, None)\n",
    "                subclasses_instances.append(subclass_instance)\n",
    "            else:\n",
    "                raise Exception(\"fuck\")\n",
    "                \n",
    "        return subclasses_instances\n",
    "    \n",
    "    def _supClassConstructor(self, cls):\n",
    "        # Ajout des supclass\n",
    "        for supClass in cls.supClasses:\n",
    "            supClass.subClasses.append(cls)\n",
    "    \n",
    "    def RdfClassConstructor(self, uri):\n",
    "        \n",
    "        # Nom de la classe\n",
    "        name = self.uriToName(uri)\n",
    "        \n",
    "        print(\"%s constructor\" % (name,))\n",
    "        \n",
    "        if name == \"Modifieur\":\n",
    "            # import ipdb; ipdb.set_trace()\n",
    "            pass\n",
    "    \n",
    "        # Attributs de la classe\n",
    "        dct = {\n",
    "            \"uri\": uri,\n",
    "            \"subClasses\": [],\n",
    "            \"supClasses\": []\n",
    "        }\n",
    "\n",
    "        subclasses_instances = self._subClassConstructor(uri)\n",
    "        dct[\"supClasses\"].extend(subclasses_instances)\n",
    "\n",
    "        # Création de la classe\n",
    "        newclass = type(name, (OwlClass,), dct)\n",
    "        # Ajout de la classe dans le dictionnaire des classes\n",
    "        if name in self._ontologyclasses:\n",
    "            raise Exception\n",
    "        self._ontologyclasses[name] = newclass\n",
    "        \n",
    "        # Ajout des supclass\n",
    "        #self._supClassConstructor(newclass)\n",
    "        \n",
    "    def propertyConstructor(self):\n",
    "                \n",
    "        self._ontologyproperties = {}\n",
    "        \n",
    "        rdf_subPropertyOf_uri = rdflib.term.URIRef('http://www.w3.org/2000/01/rdf-schema#subPropertyOf')\n",
    "        rdf_domain_uri = rdflib.term.URIRef('http://www.w3.org/2000/01/rdf-schema#domain')\n",
    "        rdf_range_uri = rdflib.term.URIRef('http://www.w3.org/2000/01/rdf-schema#range')\n",
    "        \n",
    "        def _propertyConstructor(uri):\n",
    "\n",
    "            name = self.uriToName(uri)\n",
    "            \n",
    "\n",
    "            dct = {\n",
    "                \"uri\": uri,\n",
    "                \"subPropertyOf\": set(),\n",
    "                \"supPropertyOf\": set(),\n",
    "                \"domain\": set(),\n",
    "                \"range\" : set()\n",
    "            }\n",
    "                     \n",
    "            # Range\n",
    "            try:\n",
    "                property_range = list(zip(*g.triples((uri, rdf_range_uri , None))))[-1]\n",
    "            except IndexError:\n",
    "                property_range = []\n",
    "            property_range = {self._ontologyclasses[self.uriToName(i)] for i in property_range}\n",
    "            dct[\"range\"] = property_range\n",
    "                \n",
    "            # Domain\n",
    "            try:\n",
    "                property_domain = list(zip(*g.triples((uri, rdf_domain_uri , None))))[-1]\n",
    "            except IndexError:\n",
    "                property_domain = []\n",
    "            property_domain = {self._ontologyclasses[self.uriToName(i)] for i in property_domain}            \n",
    "            dct[\"domain\"] = property_domain\n",
    "            \n",
    "            \n",
    "            # subProperty \n",
    "            subproperties = g.triples((uri, rdf_subPropertyOf_uri, None))\n",
    "            for subproperty in subproperties:\n",
    "                subproperty_uri = subproperty[2]\n",
    "                subproperty_name = self.uriToName(subproperty_uri)\n",
    "                if not subproperty_name in self._ontologyproperties:\n",
    "                    _propertyConstructor(subproperty_uri)                \n",
    "                dct[\"subPropertyOf\"].add(self._ontologyproperties[subproperty_name])\n",
    "            \n",
    "            \n",
    "            # Class generation\n",
    "            newproperty = type(name, (OwlObjectProperties,), dct)\n",
    "            self._ontologyproperties[name] = newproperty\n",
    "\n",
    "            if name == \"Ne96da701cd694c86b11921230eb401a2\":\n",
    "                #import ipdb; ipdb.set_trace()\n",
    "                pass\n",
    "                \n",
    "            # supProperty\n",
    "            for supProperty in newproperty.subPropertyOf:\n",
    "                supProperty.supPropertyOf.add(newproperty)\n",
    "            \n",
    "    \n",
    "        for a in g.triples((None, RDF.type , OWL.ObjectProperty)):\n",
    "            _propertyConstructor(a[0])"
   ]
  },
  {
   "cell_type": "code",
   "execution_count": null,
   "metadata": {},
   "outputs": [],
   "source": [
    "class OwlThing(object):\n",
    "\n",
    "    @classmethod\n",
    "    def predicate_objects(cls):\n",
    "        return g.predicate_objects(cls.uri)"
   ]
  },
  {
   "cell_type": "code",
   "execution_count": null,
   "metadata": {},
   "outputs": [],
   "source": [
    "class OwlClass(OwlThing):\n",
    "    subClassOf = []"
   ]
  },
  {
   "cell_type": "code",
   "execution_count": null,
   "metadata": {},
   "outputs": [],
   "source": [
    "class OwlObjectProperties(OwlThing):\n",
    "    pass"
   ]
  },
  {
   "cell_type": "code",
   "execution_count": null,
   "metadata": {},
   "outputs": [],
   "source": [
    "class OwlNamedEntity(OwlThing):\n",
    "    pass"
   ]
  },
  {
   "cell_type": "markdown",
   "metadata": {},
   "source": [
    "### Ontologie module"
   ]
  },
  {
   "cell_type": "code",
   "execution_count": 22,
   "metadata": {},
   "outputs": [
    {
     "name": "stdout",
     "output_type": "stream",
     "text": [
      "/home/mbunel/Documents/Code/Ruitor/src\n"
     ]
    }
   ],
   "source": [
    "cd ~/Documents/Code/Ruitor/src/"
   ]
  },
  {
   "cell_type": "code",
   "execution_count": 23,
   "metadata": {},
   "outputs": [
    {
     "name": "stdout",
     "output_type": "stream",
     "text": [
      "config.py   \u001b[0m\u001b[01;34mfuzzyUtils\u001b[0m/  \u001b[01;32mmain.py\u001b[0m*        \u001b[01;34mparser\u001b[0m/       \u001b[01;34mspatialisation\u001b[0m/\r\n",
      "\u001b[01;34mdispacher\u001b[0m/  __init__.py  \u001b[01;34montologyTools\u001b[0m/  \u001b[01;34m__pycache__\u001b[0m/\r\n"
     ]
    }
   ],
   "source": [
    "ls"
   ]
  },
  {
   "cell_type": "code",
   "execution_count": 33,
   "metadata": {},
   "outputs": [],
   "source": [
    "from ontologyTools import Ontology"
   ]
  },
  {
   "cell_type": "code",
   "execution_count": 34,
   "metadata": {},
   "outputs": [],
   "source": [
    "import rdflib\n",
    "from rdflib import RDF, OWL"
   ]
  },
  {
   "cell_type": "code",
   "execution_count": 35,
   "metadata": {},
   "outputs": [],
   "source": [
    "g = rdflib.Graph()\n",
    "result = g.parse(\"/home/mbunel/Documents/Ontologie/Relations_spatiales 7.owl\")"
   ]
  },
  {
   "cell_type": "code",
   "execution_count": 36,
   "metadata": {
    "scrolled": true
   },
   "outputs": [
    {
     "data": {
      "text/plain": [
       "<ontologyTools.Ontology.Ontology at 0x7fae96f79e80>"
      ]
     },
     "execution_count": 36,
     "metadata": {},
     "output_type": "execute_result"
    }
   ],
   "source": [
    "Ontology.Ontology(g)"
   ]
  },
  {
   "cell_type": "code",
   "execution_count": 38,
   "metadata": {
    "scrolled": true
   },
   "outputs": [
    {
     "data": {
      "image/png": "[encoded data removed]",
      "text/plain": [
       "<IPython.core.display.Image object>"
      ]
     },
     "execution_count": 38,
     "metadata": {},
     "output_type": "execute_result"
    }
   ],
   "source": [
    "from pycallgraph2 import PyCallGraph\n",
    "from pycallgraph2.output import GraphvizOutput\n",
    "\n",
    "with PyCallGraph(output=GraphvizOutput()):\n",
    "    Ontology.Ontology(g)\n",
    "\n",
    "from IPython.display import Image\n",
    "Image(\"pycallgraph.png\")"
   ]
  },
  {
   "cell_type": "code",
   "execution_count": null,
   "metadata": {
    "scrolled": false
   },
   "outputs": [],
   "source": [
    "Ornitho = Ontology(g)"
   ]
  },
  {
   "cell_type": "code",
   "execution_count": null,
   "metadata": {},
   "outputs": [],
   "source": [
    "Ornitho._ontologyclasses"
   ]
  },
  {
   "cell_type": "code",
   "execution_count": null,
   "metadata": {},
   "outputs": [],
   "source": [
    "import trace\n",
    "import sys\n",
    "\n",
    "# create a Trace object, telling it what to ignore, and whether to\n",
    "# do tracing or line-counting or both.\n",
    "tracer = trace.Trace()\n",
    "\n",
    "# run the new command using the given tracer\n",
    "tracer.run('Ontology(g)')\n",
    "\n",
    "# make a report, placing output in the current directory\n",
    "r = tracer.results()"
   ]
  },
  {
   "cell_type": "code",
   "execution_count": null,
   "metadata": {},
   "outputs": [],
   "source": [
    "ls"
   ]
  },
  {
   "cell_type": "code",
   "execution_count": null,
   "metadata": {
    "scrolled": true
   },
   "outputs": [],
   "source": [
    "Ornitho._ontologyclasses[\"Mot\"].subClasses"
   ]
  },
  {
   "cell_type": "code",
   "execution_count": null,
   "metadata": {},
   "outputs": [],
   "source": [
    "Ornitho._ontologyclasses['Modifieur'].supClasses"
   ]
  },
  {
   "cell_type": "code",
   "execution_count": null,
   "metadata": {},
   "outputs": [],
   "source": [
    "rdf_subClassOf_uri = rdflib.term.URIRef('http://www.w3.org/2000/01/rdf-schema#subClassOf')\n",
    "mot_uri = rdflib.term.URIRef('http://www.semanticweb.org/mbunel/ontologies/Ornitho#Mot')\n",
    "\n",
    "list(g.triples((None, rdf_subClassOf_uri, mot_uri)))"
   ]
  },
  {
   "cell_type": "code",
   "execution_count": null,
   "metadata": {},
   "outputs": [],
   "source": [
    "from graphviz import Digraph"
   ]
  },
  {
   "cell_type": "code",
   "execution_count": null,
   "metadata": {
    "scrolled": false
   },
   "outputs": [],
   "source": [
    "dot = Digraph()\n",
    "\n",
    "for i in Ornitho._ontologyclasses.items():\n",
    "    dot.node(str(i[1]), str(i[1]))\n",
    "    \n",
    "for i in Ornitho._ontologyclasses.items():\n",
    "    sb = i[1].subClasses\n",
    "    for j in sb:\n",
    "        dot.edge(str(i[1]), str(j), \"supC\")\n",
    "\n",
    "for i in Ornitho._ontologyclasses.items():\n",
    "    sb = i[1].supClasses\n",
    "    for j in sb:\n",
    "        dot.edge(str(i[1]), str(j), \"subC\")   \n",
    "    \n",
    "dot"
   ]
  },
  {
   "cell_type": "code",
   "execution_count": null,
   "metadata": {},
   "outputs": [],
   "source": [
    "dot = Digraph()\n",
    "\n",
    "for i in Ornitho._ontologyproperties.items():\n",
    "    dot.node(str(i[1]), str(i[1]))\n",
    "    \n",
    "for i in Ornitho._ontologyproperties.items():\n",
    "    sb = i[1].subPropertyOf\n",
    "    dot.edges([(str(i[1]), str(j)) for j in sb])\n",
    "\n",
    "for i in Ornitho._ontologyproperties.items():\n",
    "    sb = i[1].supPropertyOf\n",
    "    dot.edges([(str(i[1]), str(j)) for j in sb])    \n",
    "    \n",
    "dot"
   ]
  },
  {
   "cell_type": "code",
   "execution_count": null,
   "metadata": {
    "scrolled": false
   },
   "outputs": [],
   "source": [
    "tt"
   ]
  },
  {
   "cell_type": "code",
   "execution_count": null,
   "metadata": {},
   "outputs": [],
   "source": [
    "for i in tt:\n",
    "    print(\"%s :\" % i)\n",
    "    print(\"\\t sub : %s\" % [a for a in i.subPropertyOf])\n",
    "    print(\"\\t sup : %s\\n\" % [a for a in i.supPropertyOf])"
   ]
  },
  {
   "cell_type": "code",
   "execution_count": null,
   "metadata": {},
   "outputs": [],
   "source": [
    "tt[9].domain[0].subClassOf"
   ]
  },
  {
   "cell_type": "code",
   "execution_count": null,
   "metadata": {},
   "outputs": [],
   "source": [
    "for i in tt:\n",
    "    print(\"%s :\" % i)\n",
    "    print(\"\\t sub : %s\" % i.subClassOf)\n",
    "    print(\"\\t sup : %s\\n\" % i.supClassOf)"
   ]
  },
  {
   "cell_type": "code",
   "execution_count": null,
   "metadata": {},
   "outputs": [],
   "source": [
    "rdflib.term.BNode('N4e37e053544744228138316ad2fe7276').toPython()"
   ]
  },
  {
   "cell_type": "code",
   "execution_count": null,
   "metadata": {},
   "outputs": [],
   "source": [
    "list(tt.transitive_subjects(rdflib.term.URIRef('http://www.w3.org/2000/01/rdf-schema#subClassOf')))"
   ]
  },
  {
   "cell_type": "code",
   "execution_count": null,
   "metadata": {
    "scrolled": true
   },
   "outputs": [],
   "source": [
    "Ornitho._ontologyclasses[\"Relation_spatiale_atomique\"].supClassOf"
   ]
  },
  {
   "cell_type": "code",
   "execution_count": null,
   "metadata": {},
   "outputs": [],
   "source": [
    "g.triples((uri, OWL.subclass, None))"
   ]
  },
  {
   "cell_type": "code",
   "execution_count": null,
   "metadata": {},
   "outputs": [],
   "source": [
    "aa = {1: \"1\"}"
   ]
  },
  {
   "cell_type": "code",
   "execution_count": null,
   "metadata": {},
   "outputs": [],
   "source": [
    "\"1\" in aa"
   ]
  },
  {
   "cell_type": "code",
   "execution_count": null,
   "metadata": {},
   "outputs": [],
   "source": [
    "hasGeographicObject."
   ]
  },
  {
   "cell_type": "code",
   "execution_count": null,
   "metadata": {},
   "outputs": [],
   "source": [
    "tt = hasGeographicObject()"
   ]
  },
  {
   "cell_type": "code",
   "execution_count": null,
   "metadata": {},
   "outputs": [],
   "source": [
    "GeographicObject."
   ]
  },
  {
   "cell_type": "code",
   "execution_count": null,
   "metadata": {},
   "outputs": [],
   "source": [
    "Ornitho._ontologyproperties"
   ]
  },
  {
   "cell_type": "code",
   "execution_count": null,
   "metadata": {},
   "outputs": [],
   "source": [
    "list(isRelationSpatialeAtomiqueOf.predicate_objects())"
   ]
  },
  {
   "cell_type": "code",
   "execution_count": null,
   "metadata": {},
   "outputs": [],
   "source": [
    "Relation_spatiale_atomique.uri"
   ]
  },
  {
   "cell_type": "markdown",
   "metadata": {},
   "source": [
    "## Classes manipulation ontologies"
   ]
  },
  {
   "cell_type": "code",
   "execution_count": null,
   "metadata": {},
   "outputs": [],
   "source": [
    "class OrnithoObject:\n",
    "    pass"
   ]
  },
  {
   "cell_type": "markdown",
   "metadata": {},
   "source": [
    "## Bases de code"
   ]
  },
  {
   "cell_type": "code",
   "execution_count": 27,
   "metadata": {},
   "outputs": [],
   "source": [
    "import os\n",
    "from itertools import product, islice\n",
    "from functools import partial\n",
    "from more_itertools import chunked\n",
    "#from operator import mul\n",
    "\n",
    "import numpy as np\n",
    "import numpy.ma as ma\n",
    "import rasterio\n",
    "from rasterio.windows import Window\n",
    "\n",
    "from matplotlib import pyplot\n",
    "\n",
    "import fiona\n",
    "from  scipy import spatial\n",
    "from shapely.geometry import mapping, LineString\n",
    "from math import sqrt, ceil"
   ]
  },
  {
   "cell_type": "code",
   "execution_count": 2,
   "metadata": {},
   "outputs": [],
   "source": [
    "def import_raster(name, folder=os.getcwd()):\n",
    "    file = os.path.join(folder, name)\n",
    "    return rasterio.open(file)"
   ]
  },
  {
   "cell_type": "code",
   "execution_count": 3,
   "metadata": {},
   "outputs": [],
   "source": [
    "def import_shp(name, folder=os.getcwd()):\n",
    "    file = os.path.join(folder, name)\n",
    "    return fiona.open(file)"
   ]
  },
  {
   "cell_type": "code",
   "execution_count": 4,
   "metadata": {},
   "outputs": [],
   "source": [
    "def write_raster(matrice, params, counter):\n",
    "\n",
    "    with rasterio.open(\n",
    "            '/media/mbunel/MULTIMEDIA/OutAlgo/gen_rig_tt%s.tif' % (\n",
    "                counter,), 'w',\n",
    "            driver='GTiff',\n",
    "            width=params.width,\n",
    "            height=params.height,\n",
    "            count=1, dtype=matrice.dtype,\n",
    "            crs=rasterio.crs.CRS(init='epsg:2154'),\n",
    "            transform=params.transform) as dst:\n",
    "\n",
    "        dst.write(matrice)"
   ]
  },
  {
   "cell_type": "code",
   "execution_count": 25,
   "metadata": {},
   "outputs": [],
   "source": [
    "mask = [{'type': 'Polygon', 'coordinates': [[\n",
    "    [942563.72516556282062083, 6448884.12251655571162701], \n",
    "    [942528.95695364230778068, 6446705.31456953566521406], \n",
    "    [944904.78476821188814938, 6446705.31456953566521406], \n",
    "    [944719.35430463566444814, 6448872.53311258275061846], \n",
    "    [942563.72516556282062083, 6448884.12251655571162701]]]\n",
    "       }]"
   ]
  },
  {
   "cell_type": "code",
   "execution_count": 113,
   "metadata": {},
   "outputs": [],
   "source": [
    "ligne_dist = import_raster(\n",
    "    \"dist_1\", \"/home/mbunel/Documents/Code/ExtensionRIG\")\n",
    "ligne_dist_mat = ligne_dist.read()\n",
    "\n",
    "ligne_dalt = import_raster(\n",
    "    \"dalt_1\", \"/home/mbunel/Documents/Code/ExtensionRIG\")\n",
    "ligne_dalt_mat = ligne_dalt.read()\n",
    "\n",
    "bati_dist = import_raster(\n",
    "    \"dist_2\", \"/home/mbunel/Documents/Code/ExtensionRIG\")\n",
    "bati_dist_mat = bati_dist.read()\n",
    "\n",
    "bati_dalt = import_raster(\n",
    "    \"dalt_2\", \"/home/mbunel/Documents/Code/ExtensionRIG\")\n",
    "bati_dalt_mat = bati_dalt.read()"
   ]
  },
  {
   "cell_type": "code",
   "execution_count": 114,
   "metadata": {},
   "outputs": [],
   "source": [
    "alt = import_raster(\"RGEALTI_38_test.vrt\",\"/home/mbunel/Données/RGEALTI/RGEALTI_2-0_5M_ASC_LAMB93-IGN69_D038_2017-05-20/\")"
   ]
  },
  {
   "cell_type": "code",
   "execution_count": 73,
   "metadata": {
    "scrolled": true
   },
   "outputs": [
    {
     "data": {
      "text/plain": [
       "{'count': 1,\n",
       " 'crs': None,\n",
       " 'driver': 'VRT',\n",
       " 'dtype': 'float32',\n",
       " 'height': 20000,\n",
       " 'nodata': -99999.0,\n",
       " 'transform': Affine(5.0, 0.0, 864997.5,\n",
       "       0.0, -5.0, 6500002.5),\n",
       " 'width': 21000}"
      ]
     },
     "execution_count": 73,
     "metadata": {},
     "output_type": "execute_result"
    }
   ],
   "source": [
    "alt.meta"
   ]
  },
  {
   "cell_type": "code",
   "execution_count": 115,
   "metadata": {},
   "outputs": [],
   "source": [
    "wnd=Window(5000, 10000, 15000, 15000)"
   ]
  },
  {
   "cell_type": "code",
   "execution_count": 116,
   "metadata": {
    "scrolled": true
   },
   "outputs": [],
   "source": [
    "alt_mat = alt.read(window=wnd)"
   ]
  },
  {
   "cell_type": "code",
   "execution_count": 132,
   "metadata": {
    "scrolled": false
   },
   "outputs": [],
   "source": [
    "fuzz = FuzzyRaster(raster=alt,\n",
    "                   fuzzyfication_parameters=[(1500, 1.0), (3000, 0.0)],window=wnd)"
   ]
  },
  {
   "cell_type": "code",
   "execution_count": 134,
   "metadata": {
    "scrolled": false
   },
   "outputs": [
    {
     "data": {
      "image/png": "[encoded data removed]",
      "text/plain": [
       "<Figure size 432x288 with 1 Axes>"
      ]
     },
     "metadata": {},
     "output_type": "display_data"
    }
   ],
   "source": [
    "fuzz"
   ]
  },
  {
   "cell_type": "code",
   "execution_count": 7,
   "metadata": {},
   "outputs": [],
   "source": [
    "def rasterize(vector, raster):\n",
    "\n",
    "    vector_geom = vector.schema['geometry']\n",
    "\n",
    "    params = raster_params(vector, raster)\n",
    "    raster_out = raster_gen(params)\n",
    "\n",
    "    if vector_geom == \"3D LineString\":\n",
    "        seg = line_segmentize(vector, raster)\n",
    "        out = _rasterize_3DSegments(seg, raster_out, params)\n",
    "\n",
    "    if vector_geom == \"3D Polygon\":\n",
    "        seg = polygon_segmentize(vector, raster)\n",
    "        print(seg)\n",
    "        out = _rasterize_3DPolygons(vector, raster, raster_out)\n",
    "\n",
    "    return out, params['transform']"
   ]
  },
  {
   "cell_type": "code",
   "execution_count": 8,
   "metadata": {},
   "outputs": [],
   "source": [
    "def raster_params(vector, raster):\n",
    "    # Génération raster\n",
    "    bbox = (vector.bounds[:2], vector.bounds[2:])\n",
    "    # x,y -> row, col\n",
    "    row_ind, col_ind = zip(*map(lambda x: raster.index(*x), bbox))\n",
    "    row_min, col_min = min(row_ind), min(col_ind)\n",
    "    row_num = abs(max(row_ind) - row_min) + 10\n",
    "    col_num = abs(max(col_ind) - col_min) + 10\n",
    "\n",
    "    sommet = raster.xy(row_min, col_min, 'ul')\n",
    "\n",
    "    transform = rasterio.transform.from_origin(\n",
    "        sommet[0] + 2.5,\n",
    "        sommet[1],\n",
    "        5, 5)\n",
    "    \n",
    "    # Définition des paramètres du raster\n",
    "    params = {\n",
    "        'sommet': sommet,\n",
    "        'params': raster.transform,\n",
    "        'transform': transform,        \n",
    "        'row_num': row_num, 'col_num': col_num\n",
    "    }\n",
    "    return params"
   ]
  },
  {
   "cell_type": "code",
   "execution_count": 9,
   "metadata": {},
   "outputs": [],
   "source": [
    "def raster_gen(params):\n",
    "    # Creation Raster sortie\n",
    "    print(\"\\nRaster creation:\")\n",
    "\n",
    "    # numpy array est au format lignes, col\n",
    "    structure = (params['row_num'], params['col_num'])\n",
    "    raster_out = np.zeros(structure)\n",
    "\n",
    "    # Affichage structure\n",
    "    for a in zip(['row', 'col'], structure):\n",
    "        print(\"\\t%s: %s\" % (*a,))\n",
    "\n",
    "    return raster_out"
   ]
  },
  {
   "cell_type": "code",
   "execution_count": 10,
   "metadata": {},
   "outputs": [],
   "source": [
    "def _rasterize_3DSegments(segments, raster, params):\n",
    "    # Peuplement raster\n",
    "    print(\"\\nRaster calculation:\\n\")\n",
    "    for s in segments:\n",
    "        # calcul coordonées moyennes segment\n",
    "        # Format (x,y,z)\n",
    "        cent = tuple(map(lambda x: sum(x) / 2, zip(*s)))\n",
    "\n",
    "        d_row = cent[1] - params['sommet'][1]\n",
    "        d_col = cent[0] - params['sommet'][0]\n",
    "\n",
    "        row = d_row // params['params'][4]\n",
    "        col = d_col // params['params'][0]\n",
    "\n",
    "        if False:\n",
    "            print(\"\\tx: %s, y: %s, z: %s\" % (*cent,))\n",
    "            print(\"\\tdx: %s, dy: %s\" % (d_col, d_row))\n",
    "            print(\"\\tcol: %s, row: %s\\n\" % (col, row))\n",
    "\n",
    "        try:\n",
    "            raster[row, col] = cent[2]\n",
    "        except IndexError:\n",
    "            print(raster.shape)\n",
    "\n",
    "    return raster"
   ]
  },
  {
   "cell_type": "code",
   "execution_count": 11,
   "metadata": {},
   "outputs": [],
   "source": [
    "def _rasterize_3DPolygons(polygons, raster, params):\n",
    "    # Peuplement raster\n",
    "    print(\"\\nRaster calculation:\\n\")\n",
    "    import ipdb; ipdb.set_trace()\n",
    "\n",
    "    return raster"
   ]
  },
  {
   "cell_type": "code",
   "execution_count": 12,
   "metadata": {},
   "outputs": [],
   "source": [
    "def polygon_segmentize(polygons, raster):    \n",
    "    fun = map(lambda x: ''.join(x), product(('u', 'l'), ('l', 'r')))\n",
    "    \n",
    "    row_res, col_res = raster.res\n",
    "    \n",
    "    cutpoly =[]\n",
    "    \n",
    "    import ipdb; ipdb.set_trace()\n",
    "    \n",
    "    for p in polygons:\n",
    "        geom = p['geometry']['coordinates']\n",
    "        extrem_coords = [(min(i), max(i)) for i in zip(*geom[0])]\n",
    "        bbox = product(*extrem_coords[:2])\n",
    "        bbox_pixels = map(lambda x: raster.index(*x), bbox)\n",
    "        points = [raster.xy(*i, f) for i, f in zip(bbox_pixels, fun)]\n",
    "        \n",
    "        # Génération des lignes\n",
    "        y = np.arange(points[0][0], points[2][0] + row_res, row_res)\n",
    "        x = np.arange(points[2][1], points[0][1] + col_res, col_res)\n",
    "\n",
    "        row_lines = [((j, points[2][1]), (j, points[0][1])) for j in y]\n",
    "        col_lines = [((points[1][0], i), (points[0][0], i)) for i in x]\n",
    "        # Lignes de haut en bas, puis colonnes de gauche à droite\n",
    "        out = (*row_lines, *col_lines)\n",
    "\n",
    "        cutpoly.extend(out)\n",
    "        \n",
    "    return cutpoly"
   ]
  },
  {
   "cell_type": "code",
   "execution_count": 13,
   "metadata": {},
   "outputs": [],
   "source": [
    "def emp(line_coords, raster):\n",
    "    \"\"\"\n",
    "\n",
    "    line_coords: un segment de ligne\n",
    "    \"\"\"\n",
    "    # no col et ligne\n",
    "    row_ind, col_ind = zip(*map(lambda x: raster.index(*x[:2]), line_coords))\n",
    "\n",
    "    bbox_pixels = product(sorted(row_ind), sorted(col_ind))\n",
    "    # Génére ('ul','ur', 'll','lr') de façon offuquée\n",
    "    fun = map(lambda x: ''.join(x), product(('u', 'l'), ('l', 'r')))\n",
    "    points = [raster.xy(*i, f) for i, f in zip(bbox_pixels, fun)]\n",
    "\n",
    "    # Génération des lignes\n",
    "    row_res, col_res = raster.res\n",
    "    y = np.arange(points[0][0], points[1][0] + row_res, row_res)\n",
    "    x = np.arange(points[2][1], points[0][1] + col_res, col_res)\n",
    "\n",
    "    row_lines = [((j, points[2][1]), (j, points[0][1])) for j in y]\n",
    "    col_lines = [((points[1][0], i), (points[0][0], i)) for i in x]\n",
    "    # Lignes de haut en bas, puis colonnes de gauche à droite\n",
    "    out = (*row_lines, *col_lines)\n",
    "    return out"
   ]
  },
  {
   "cell_type": "code",
   "execution_count": 14,
   "metadata": {},
   "outputs": [],
   "source": [
    "def line_segmentize(line, raster):\n",
    "    \n",
    "    cutline = []\n",
    "\n",
    "    for l in line:\n",
    "        geom_line = l['geometry']['coordinates']\n",
    "        # segmentation lignes\n",
    "        seg = zip(geom_line[:-1], geom_line[1:])\n",
    "        # couper lignes\n",
    "        for s in seg:\n",
    "            pi_limits = emp(s, raster)\n",
    "            intersect = cut_segment(s, pi_limits)\n",
    "            # Curryfication fonction tri\n",
    "            dist_sort = partial(point_dist, point2=s[0][:2])\n",
    "            # Tri\n",
    "            intersect.sort(key=dist_sort)\n",
    "            # Calcul altitude\n",
    "            intersect_alt = interpolate_altitude(intersect, s)\n",
    "            extend_seg = (s[0], *intersect_alt, s[1])\n",
    "\n",
    "            # A revoir\n",
    "            segment_out = zip(extend_seg[:-1], extend_seg[1:])\n",
    "            cutline.extend(segment_out)\n",
    "\n",
    "    return cutline"
   ]
  },
  {
   "cell_type": "code",
   "execution_count": 15,
   "metadata": {},
   "outputs": [],
   "source": [
    "def interpolate_altitude(points, seg_ref):\n",
    "    cdir = (seg_ref[1][2] - seg_ref[0][2]) / point_dist(*seg_ref)\n",
    "    abord = seg_ref[0][2]\n",
    "    out = ((*p, point_dist(p, seg_ref[0]) * cdir + abord) for p in points)\n",
    "    return out"
   ]
  },
  {
   "cell_type": "code",
   "execution_count": 16,
   "metadata": {},
   "outputs": [],
   "source": [
    "def cut_segment(segment, cut):\n",
    "    seg_out = []\n",
    "\n",
    "    for c in cut:\n",
    "        inter = segments_intersection(segment, c)\n",
    "        if inter:\n",
    "            seg_out.append(inter)\n",
    "    return seg_out"
   ]
  },
  {
   "cell_type": "code",
   "execution_count": 17,
   "metadata": {},
   "outputs": [],
   "source": [
    "def point_dist(point1, point2):\n",
    "    carres = [(i-j)**2 for i, j in zip(point1, point2)]\n",
    "    dist = sqrt(sum(carres))\n",
    "    return dist"
   ]
  },
  {
   "cell_type": "code",
   "execution_count": 18,
   "metadata": {},
   "outputs": [],
   "source": [
    "def segments_intersection(seg0, seg1):\n",
    "    \"\"\"\n",
    "    Calcule le point d'intersection de deux segments\n",
    "    \"\"\"\n",
    "    (p0_x, p0_y, *_), (p1_x, p1_y, *_) = seg0\n",
    "\n",
    "    (p2_x, p2_y, *_), (p3_x, p3_y, *_) = seg1\n",
    "\n",
    "    s1_x = p1_x - p0_x\n",
    "    s1_y = p1_y - p0_y\n",
    "    s2_x = p3_x - p2_x\n",
    "    s2_y = p3_y - p2_y\n",
    "\n",
    "    s = (-s1_y * (p0_x - p2_x) + s1_x * (p0_y - p2_y)) / \\\n",
    "        (-s2_x * s1_y + s1_x * s2_y)\n",
    "    t = (s2_x * (p0_y - p2_y) - s2_y * (p0_x - p2_x)) / \\\n",
    "        (-s2_x * s1_y + s1_x * s2_y)\n",
    "\n",
    "    if (s >= 0 and s <= 1 and t >= 0 and t <= 1):\n",
    "        i_x = p0_x + (t * s1_x)\n",
    "        i_y = p0_y + (t * s1_y)\n",
    "        return (i_x, i_y)\n",
    "    else:\n",
    "        return None"
   ]
  },
  {
   "cell_type": "code",
   "execution_count": 19,
   "metadata": {},
   "outputs": [],
   "source": [
    "def segment_add_point(seg, point):\n",
    "    \"\"\"\n",
    "    Fait passer un segment par un point intermédiaire\n",
    "    \"\"\"\n",
    "    seg1, seg2 = (seg[0], point), (point, seg[1])\n",
    "    return [seg1, seg2]"
   ]
  },
  {
   "cell_type": "code",
   "execution_count": 20,
   "metadata": {
    "scrolled": false
   },
   "outputs": [],
   "source": [
    "raster = import_raster(\n",
    "    \"out.tif\", \"/home/mbunel/Documents/Code/thesis/data\")\n",
    "line = import_shp(\"TELEPHERIQUE_MARMOTTES.shp\",\n",
    "                  \"/home/mbunel/Documents/Code/thesis/data\")\n",
    "polygone = import_shp(\"BATI_TELEPH_MARMOTTES_FUS.shp\",\n",
    "                      \"/home/mbunel/Documents/Code/thesis/data\")"
   ]
  },
  {
   "cell_type": "code",
   "execution_count": null,
   "metadata": {
    "scrolled": true
   },
   "outputs": [],
   "source": [
    "# Création ligne\n",
    "from rasterio import features\n",
    "\n",
    "features.rasterize(shapes=polygone[1], transform=raster.transform)"
   ]
  },
  {
   "cell_type": "code",
   "execution_count": null,
   "metadata": {},
   "outputs": [],
   "source": [
    "#import ipdb; ipdb.set_trace()\n",
    "features.rasterize(shapes=polygone[0]['geometry'])"
   ]
  },
  {
   "cell_type": "code",
   "execution_count": null,
   "metadata": {},
   "outputs": [],
   "source": [
    "tt = list(enumerate([i['geometry'] for i in polygone]))\n",
    "id, ab = tt[0]\n",
    "print(tt[0])\n",
    "features.rasterize(shapes=tt)"
   ]
  },
  {
   "cell_type": "code",
   "execution_count": null,
   "metadata": {
    "scrolled": true
   },
   "outputs": [],
   "source": [
    "raster.meta"
   ]
  },
  {
   "cell_type": "code",
   "execution_count": null,
   "metadata": {},
   "outputs": [],
   "source": [
    "features.is_valid_geom(tt[0][1])"
   ]
  },
  {
   "cell_type": "code",
   "execution_count": 21,
   "metadata": {
    "scrolled": false
   },
   "outputs": [
    {
     "name": "stdout",
     "output_type": "stream",
     "text": [
      "\n",
      "Raster creation:\n",
      "\trow: 571\n",
      "\tcol: 655\n",
      "\n",
      "Raster calculation:\n",
      "\n"
     ]
    },
    {
     "name": "stderr",
     "output_type": "stream",
     "text": [
      "/usr/local/lib/python3.5/dist-packages/ipykernel_launcher.py:21: VisibleDeprecationWarning: using a non-integer number instead of an integer will result in an error in the future\n"
     ]
    }
   ],
   "source": [
    "out, transform = rasterize(line, raster)"
   ]
  },
  {
   "cell_type": "code",
   "execution_count": null,
   "metadata": {
    "scrolled": false
   },
   "outputs": [],
   "source": [
    "pyplot.matshow(out)"
   ]
  },
  {
   "cell_type": "markdown",
   "metadata": {},
   "source": [
    "Base de code pour les classes fonctions (gardé pour l'historique)"
   ]
  },
  {
   "cell_type": "code",
   "execution_count": null,
   "metadata": {},
   "outputs": [],
   "source": [
    "class Fuzzyfier:\n",
    "            \n",
    "    def __init__(self, context):\n",
    "        self.context = context\n",
    "        \n",
    "    def fuzzyfy(self, *args, **kwargs):\n",
    "        \n",
    "        vfun = self.def_fuzzyfy_function(*args, **kwargs)\n",
    "        self.context.fuzzycomputeraster = vfun(self.context.computeraster)\n",
    "        self.context.fuzzycomputed = 1\n",
    "\n",
    "    def def_fuzzyfy_function(self, *args, **kwargs):\n",
    "    \n",
    "        sorted(args, key=lambda x: x[0])\n",
    "        \n",
    "        # Définition de la fonction\n",
    "        # Todo réduire à l'occasion\n",
    "        if len(args) == 2:\n",
    "            def fun(x):\n",
    "                if x < args[0][0]:\n",
    "                    out = args[0][1]\n",
    "                elif x < args[1][0]:\n",
    "                    a = (args[1][1] - args[0][1]) / (args[1][0] - args[0][0])\n",
    "                    b = -(args[0][0] * a - args[0][1])\n",
    "                    out = a*x + b\n",
    "                else:\n",
    "                    out = args[1][1]\n",
    "                return out           \n",
    "        elif len(args) == 3:      \n",
    "            def fun(x):\n",
    "                if x < args[0][0]:\n",
    "                    out = args[0][1]\n",
    "                elif x < args[1][0]:\n",
    "                    a = (args[1][1] - args[0][1]) / (args[1][0] - args[0][0])\n",
    "                    b = args[0][1]\n",
    "                    out = a*x + b\n",
    "                elif x < args[2][0]:\n",
    "                    a = (args[2][1] - args[1][1]) / (args[2][0] - args[1][0])\n",
    "                    b = args[1][1]\n",
    "                    out = a*x + b\n",
    "                else:\n",
    "                    out = args[1][1]\n",
    "                return out\n",
    "        elif len(args) == 4:\n",
    "            def fun(x):\n",
    "                if x < args[0][0]:\n",
    "                    out = args[0][1]\n",
    "                elif x < args[1][0]:\n",
    "                    a = (args[1][1] - args[0][1]) / (args[1][0] - args[0][0])\n",
    "                    b = args[0][1]\n",
    "                    out = a*x + b\n",
    "                elif x < args[2][0]:\n",
    "                    out = args[2][1]\n",
    "                elif x < args[3][0]:\n",
    "                    a = (args[3][1] - args[2][1]) / (args[3][0] - args[2][0])\n",
    "                    b = args[2][1]\n",
    "                    out = a*x + b\n",
    "                else:\n",
    "                    out = args[3][1]\n",
    "                return out\n",
    "        else:\n",
    "            raise ValueError(\"2, 3 or 4 values accepted\")\n",
    "                \n",
    "        vfun = np.vectorize(fun)\n",
    "        \n",
    "        return vfun"
   ]
  },
  {
   "cell_type": "code",
   "execution_count": null,
   "metadata": {},
   "outputs": [],
   "source": [
    "class FonctionSpatialisation:\n",
    "    \n",
    "    default_fuzzyfier_strategy = Fuzzyfier\n",
    "    \n",
    "    def __init__(self, raster, fuzzyfier_strategy=None, *args, **kwargs):\n",
    "        self.raster = raster\n",
    "        self.computeraster = np.empty_like(raster)\n",
    "        self.computed = 0\n",
    "        self.fuzzycomputeraster = np.empty_like(raster)\n",
    "        self.fuzzycomputed = 0\n",
    "        \n",
    "        if fuzzyfier_strategy:\n",
    "            self.fuzzyfier = fuzzyfier_strategy(self)\n",
    "        else:\n",
    "            self.fuzzyfier = self.default_fuzzyfier_strategy(self)\n",
    "        \n",
    "    def compute(self, *args, **kwargs):\n",
    "        print(args, kwargs)\n",
    "        self._compute_function(*args, **kwargs)\n",
    "        self.fuzzyfy(*args, **kwargs)\n",
    "        \n",
    "    def fuzzyfy(self, *args, **kwargs):\n",
    "        self.fuzzyfier.fuzzyfy(*args, **kwargs)\n",
    "    \n",
    "    def _compute_function(self, *args, **kwargs):\n",
    "        raise ValueError(\"No compute function\")"
   ]
  },
  {
   "cell_type": "code",
   "execution_count": null,
   "metadata": {},
   "outputs": [],
   "source": [
    "class DistanceQuantitativeFloue(FonctionSpatialisation):\n",
    "    \"\"\"\n",
    "    Prend un raster en entrée et renvoie un raster de distance floue\n",
    "    \n",
    "    Pour chaque cellule du raster on calcule la distance à la cellule\n",
    "    non-vide la plus proche. La valeur de la distance est donnée en cellules.\n",
    "    \"\"\"\n",
    "    \n",
    "    def __init__(self, raster, *args, **kwargs):\n",
    "        super().__init__(raster, *args, **kwargs)\n",
    "\n",
    "    def _compute_function(self, *args, **kwargs):\n",
    "        # Extraction des cellules non nulles\n",
    "        notnullcells = np.argwhere(self.raster != 0)\n",
    "        \n",
    "        # Définition de l'itérateur\n",
    "        it = np.nditer(self.raster, flags=['multi_index'])\n",
    "        while not it.finished:\n",
    "            # Calcul de la distance au plus proche voisin\n",
    "            self.computeraster[it.multi_index] = np.sqrt(np.min(np.sum(np.square(notnullcells - it.multi_index),axis=1)))\n",
    "            it.iternext()"
   ]
  },
  {
   "cell_type": "code",
   "execution_count": null,
   "metadata": {
    "scrolled": false
   },
   "outputs": [],
   "source": [
    "aa = DistanceQuantitativeFloue(out)"
   ]
  },
  {
   "cell_type": "code",
   "execution_count": null,
   "metadata": {
    "scrolled": true
   },
   "outputs": [],
   "source": [
    "aa.compute((10,1.0),(100,0.0))"
   ]
  },
  {
   "cell_type": "code",
   "execution_count": null,
   "metadata": {
    "scrolled": true
   },
   "outputs": [],
   "source": [
    "pyplot.matshow(aa.fuzzycomputeraster)"
   ]
  },
  {
   "cell_type": "code",
   "execution_count": null,
   "metadata": {},
   "outputs": [],
   "source": [
    "class AltitudeQuantitativeFloue(FonctionSpatialisation):\n",
    "    \n",
    "    def __init__(self, raster, *args, **kwargs):\n",
    "        super().__init__(raster, *args, **kwargs)\n",
    "\n",
    "    def _compute_function(self, *args, **kwargs):\n",
    "        pass"
   ]
  },
  {
   "cell_type": "markdown",
   "metadata": {},
   "source": [
    "## Définition de la classe FuzzyRaster et de ses composantes"
   ]
  },
  {
   "cell_type": "markdown",
   "metadata": {},
   "source": [
    "### Définition des opérateurs flous"
   ]
  },
  {
   "cell_type": "code",
   "execution_count": 100,
   "metadata": {},
   "outputs": [],
   "source": [
    "class FuzzyOperators:\n",
    "    def __init__(self, context):\n",
    "        self.context = context\n",
    "        \n",
    "    def _check_operators(self, other):\n",
    "        if type(self.context.fuzzy_operators) != type(other.fuzzy_operators):\n",
    "            raise ValueError(\"Incompatibles Fuzzy Operators\")\n",
    "            \n",
    "    def __str__(self):\n",
    "        return \"fuzzy operator : %s\" % (self.__class__.__name__)      \n",
    "\n",
    "    def norm(self, other):\n",
    "        self._check_operators(other)\n",
    "        return self._norm(other)    \n",
    "    \n",
    "    def conorm(self, other):\n",
    "        self._check_operators(other)\n",
    "        return self._conorm(other)\n",
    "        \n",
    "    def _norm(self, other):\n",
    "        raise ValueError(\"No t-norm defined\")\n",
    "        \n",
    "    def _conorm(self, other):\n",
    "        raise ValueError(\"No t-norm defined\")"
   ]
  },
  {
   "cell_type": "code",
   "execution_count": 101,
   "metadata": {},
   "outputs": [],
   "source": [
    "class ZadehOperators(FuzzyOperators):\n",
    "    \"\"\"\n",
    "    Opérateurs flous tels que formalisés par zadeh\n",
    "    \n",
    "    t-norme(a,b) = min(a,b)\n",
    "    t-conorme(a,b) = max(a,b)\n",
    "    \"\"\"\n",
    "    \n",
    "    def __init__(self, context):\n",
    "        super().__init__(context)\n",
    "        \n",
    "    def _norm(self, other):\n",
    "        return np.minimum(self.context.values, other.values)\n",
    "    \n",
    "    def _conorm(self, other):\n",
    "        return np.maximum(self.context.values, other.values)"
   ]
  },
  {
   "cell_type": "code",
   "execution_count": 102,
   "metadata": {},
   "outputs": [],
   "source": [
    "class LukasiewiczOperators(FuzzyOperators):\n",
    "    \"\"\"\n",
    "    Opérateurs flous tels que formalisés par Lukasiewicz\n",
    "    \n",
    "    t-norme(a,b) = max(a+b-1, 0)\n",
    "    t-conorme(a,b) = min(a+b, 1)\n",
    "    \"\"\"\n",
    "    \n",
    "    def __init__(self, context):\n",
    "        super().__init__(context)\n",
    "        \n",
    "    def _norm(self, other):\n",
    "        return np.maximum(self.context.values + other.values - 1.0, 0.0)\n",
    "    \n",
    "    def _conorm(self, other):\n",
    "        return np.minimum(self.context.values + other.values, 1.0)"
   ]
  },
  {
   "cell_type": "code",
   "execution_count": 103,
   "metadata": {},
   "outputs": [],
   "source": [
    "class ProbabilityOperators(FuzzyOperators):\n",
    "    \"\"\"\n",
    "    Opérateurs probabilistes flous\n",
    "    \n",
    "    t-norme(a,b) = a*b\n",
    "    t-conorme(a,b) = a+b-a*b\n",
    "    \"\"\"\n",
    "    \n",
    "    def __init__(self, context):\n",
    "        super().__init__(context)\n",
    "        \n",
    "    def _norm(self, other):\n",
    "        return self.context.values * other.values\n",
    "    \n",
    "    def _conorm(self, other):\n",
    "        return self.context.values + other.values - self.context.values * other.values"
   ]
  },
  {
   "cell_type": "code",
   "execution_count": 104,
   "metadata": {},
   "outputs": [],
   "source": [
    "class NilpotentOperators(FuzzyOperators):\n",
    "    \"\"\"\n",
    "    Opérateurs nilpotents\n",
    "    \n",
    "    t-norme(a,b) = min(a,b) si a+b > 1; 0 sinon\n",
    "    t-conorme(a,b) = max(a,b) si a+b < 1; 1 sinon\n",
    "    \"\"\"\n",
    "        \n",
    "    def __init__(self, context):\n",
    "        super().__init__(context)\n",
    "        \n",
    "    def _norm(self, other):\n",
    "        # Définirion de l'array a renvoyer\n",
    "        res_array = np.empty_like(self.context.values)\n",
    "        # Construction de l'array test: True si a + b > 1\n",
    "        test_arr = self.context.values + other.values  > 1\n",
    "        # 0 si a+b <= 0\n",
    "        res_array[~test_arr] = 0\n",
    "        # min(a,b) si a+b > 1\n",
    "        res_array[test_arr] = np.minimum(self.context.values, other.values)[test_arr]\n",
    "        \n",
    "        return res_array\n",
    "    \n",
    "    def _conorm(self, other):\n",
    "        # Définirion de l'array a renvoyer\n",
    "        res_array = np.empty_like(self.context.values)\n",
    "        # Construction de l'array test: True si a + b < 1\n",
    "        test_arr = self.context.values + other.values < 1\n",
    "        # 1 si a + b >= 1\n",
    "        res_array[~test_arr] = 1\n",
    "        # max(a,b) si a+b < 1\n",
    "        res_array[test_arr] = np.maximum(self.context.values, other.values)[test_arr]\n",
    "        \n",
    "        return res_array"
   ]
  },
  {
   "cell_type": "code",
   "execution_count": 105,
   "metadata": {},
   "outputs": [],
   "source": [
    "class DrasticOperators(FuzzyOperators):\n",
    "    \"\"\"\n",
    "    Opérateurs drastiques\n",
    "    \n",
    "    t-norme(a,b) = b si a = 1; a si b = 1; 0 sinon\n",
    "    t-conorme(a,b) = b si a = 0; a si b = 0; 1 sinon\n",
    "    \"\"\"\n",
    "        \n",
    "    def __init__(self, context):\n",
    "        super().__init__(context)\n",
    "        \n",
    "    def _norm(self, other):\n",
    "        # Définirion de l'array a renvoyer\n",
    "        res_array = np.empty_like(self.context.values)\n",
    "        # Construction des arrays test, a == 1 & b == 1\n",
    "        test_arr_self = self.context.values == 1\n",
    "        test_arr_other = other.values == 1\n",
    "        # b si a == 1 b & a si b == 1\n",
    "        res_array[test_arr_self] = other.values[test_arr_self]\n",
    "        res_array[test_arr_other] = self.context.values[test_arr_other]\n",
    "        # 0 si a != 1 ou b != 1 i.e. tous les autres cas\n",
    "        res_array[~(test_arr_self | test_arr_other)] = 0\n",
    "        \n",
    "        return res_array\n",
    "    \n",
    "    def _conorm(self, other):\n",
    "        # Définirion de l'array a renvoyer\n",
    "        res_array = np.empty_like(self.context.values)\n",
    "        # Construction des arrays test, a == 0 & b == 0\n",
    "        test_arr_self = self.context.values == 0\n",
    "        test_arr_other = other.values == 0\n",
    "        # b si a == 0 b & a si b == 0\n",
    "        res_array[test_arr_self] = other.values[test_arr_self]\n",
    "        res_array[test_arr_other] = self.context.values[test_arr_other]\n",
    "        # 1 si a != 0 ou b != 0 i.e. tous les autres cas\n",
    "        res_array[~(test_arr_self | test_arr_other)] = 1\n",
    "        \n",
    "        return res_array"
   ]
  },
  {
   "cell_type": "markdown",
   "metadata": {},
   "source": [
    "### Tracé fonction opérateurs flous"
   ]
  },
  {
   "cell_type": "code",
   "execution_count": 106,
   "metadata": {},
   "outputs": [],
   "source": [
    "def plot(self, other):\n",
    "\n",
    "    class empty:\n",
    "        pass\n",
    "\n",
    "    x = np.linspace(0, 1, 100)\n",
    "    y = np.linspace(0, 1, 100)\n",
    "\n",
    "    X, Y = np.meshgrid(x, y)\n",
    "\n",
    "    a = empty()\n",
    "    b = empty()\n",
    "\n",
    "    a.values = X\n",
    "    b.values = Y\n",
    "    self.context= a\n",
    "    Z = self._conorm(b)\n",
    "\n",
    "    fig = pyplot.figure()\n",
    "    ax = pyplot.axes(projection='3d')\n",
    "    ax.plot_wireframe(X, Y, Z, color='black')\n",
    "    ax.set_title('wireframe');\n",
    "\n",
    "    ax.invert_xaxis()\n",
    "\n",
    "    #ax.view_init(30, 180)\n",
    "    \n",
    "FuzzyOperators.plot = plot"
   ]
  },
  {
   "cell_type": "markdown",
   "metadata": {},
   "source": [
    "### Définition de la fonction de fuzzyfication"
   ]
  },
  {
   "cell_type": "code",
   "execution_count": 107,
   "metadata": {},
   "outputs": [],
   "source": [
    "class Fuzzyfier:\n",
    "    def __init__(self, context):\n",
    "        self.context = context        \n",
    "                \n",
    "    def __str__(self):\n",
    "        description_string = \"\"\"fuzzyfier class  : {}\n",
    "        parameters : {}\n",
    "        \"\"\"\n",
    "        \n",
    "        try:\n",
    "            str_params = self.fuzzyfication_parameters\n",
    "        except AttributeError:\n",
    "            str_params = \"no parameter\"\n",
    "            \n",
    "        return description_string.format(self.__class__.__name__, str_params)\n",
    "        \n",
    "    def fuzzyfy(self, raster, parameters):\n",
    "        self.fuzzyfication_parameters = parameters\n",
    "        self.fuzzyfication_function = self.def_fuzzyfy_function(*parameters)\n",
    "        \n",
    "        # Calcul des valeurs\n",
    "        fuzzyfied_raster = self.fuzzyfication_function(raster)\n",
    "        \n",
    "        return fuzzyfied_raster\n",
    "        \n",
    "    def def_fuzzy_function(self, *args, **kwargs):\n",
    "        raise ValueError(\"\")"
   ]
  },
  {
   "cell_type": "code",
   "execution_count": 108,
   "metadata": {},
   "outputs": [],
   "source": [
    "class FirstFuzzyfier(Fuzzyfier):\n",
    "    \"\"\"\n",
    "    Classe permettant la fuzzification d'un raster net\n",
    "    \"\"\"\n",
    "            \n",
    "    def __init__(self, context):\n",
    "        super().__init__(context)\n",
    "        \n",
    "    def fuzzyfy(self, raster, parameters):\n",
    "        self.fuzzyfication_parameters = parameters\n",
    "        self.fuzzyfication_function = self.def_fuzzyfy_function(*parameters)\n",
    "        \n",
    "        # Calcul des valeurs\n",
    "        # Approche vraiment lente, à modifier\n",
    "        vfun = np.vectorize(self.fuzzyfication_function, otypes=[raster.dtype])\n",
    "        \n",
    "        return vfun(raster)\n",
    "        \n",
    "    def def_fuzzyfy_function(self, *args, **kwargs):\n",
    "    \n",
    "        sorted(args, key=lambda x: x[0])\n",
    "        \n",
    "        # Définition de la fonction\n",
    "        # Todo réduire à l'occasion\n",
    "        if len(args) == 2:\n",
    "            def fun(x):\n",
    "                if x < args[0][0]:\n",
    "                    out = args[0][1]\n",
    "                elif x < args[1][0]:\n",
    "                    a = (args[1][1] - args[0][1]) / (args[1][0] - args[0][0])\n",
    "                    b = -(args[0][0] * a - args[0][1])\n",
    "                    out = a*x + b\n",
    "                else:\n",
    "                    out = args[1][1]\n",
    "                return out           \n",
    "        elif len(args) == 3:      \n",
    "            def fun(x):\n",
    "                if x < args[0][0]:\n",
    "                    out = args[0][1]\n",
    "                elif x < args[1][0]:\n",
    "                    a = (args[1][1] - args[0][1]) / (args[1][0] - args[0][0])\n",
    "                    b = args[0][1]\n",
    "                    out = a*x + b\n",
    "                elif x < args[2][0]:\n",
    "                    a = (args[2][1] - args[1][1]) / (args[2][0] - args[1][0])\n",
    "                    b = args[1][1]\n",
    "                    out = a*x + b\n",
    "                else:\n",
    "                    out = args[1][1]\n",
    "                return out\n",
    "        elif len(args) == 4:\n",
    "            def fun(x):\n",
    "                if x < args[0][0]:\n",
    "                    out = args[0][1]\n",
    "                elif x < args[1][0]:\n",
    "                    a = (args[1][1] - args[0][1]) / (args[1][0] - args[0][0])\n",
    "                    b = args[0][1]\n",
    "                    out = a*x + b\n",
    "                elif x < args[2][0]:\n",
    "                    out = args[2][1]\n",
    "                elif x < args[3][0]:\n",
    "                    a = (args[3][1] - args[2][1]) / (args[3][0] - args[2][0])\n",
    "                    b = args[2][1]\n",
    "                    out = a*x + b\n",
    "                else:\n",
    "                    out = args[3][1]\n",
    "                return out\n",
    "        else:\n",
    "            raise ValueError(\"2, 3 or 4 values accepted\")\n",
    "                        \n",
    "        return fun"
   ]
  },
  {
   "cell_type": "code",
   "execution_count": 109,
   "metadata": {},
   "outputs": [],
   "source": [
    "class FuzzyfierMoreSpeeeeed(Fuzzyfier):\n",
    "            \n",
    "    def __init__(self, context):\n",
    "        super().__init__(context)\n",
    "        \n",
    "    def def_fuzzyfy_function(self, *args, **kwargs):\n",
    "        \"\"\"\n",
    "        fonction chargée de la génération de la fonction \"fuzzy_fun\".\n",
    "        \"fuzzy_fun\" crée une copie fuzzyfiée du raster donné en entrée.\n",
    "        \"\"\"\n",
    "    \n",
    "        # Tri des paramètres\n",
    "        sorted(args, key=lambda x: x[0])\n",
    "        largs = len(args)\n",
    "        # Définition de la fonction\n",
    "        # Liste de patterns en fonction du nombre de paramètres\n",
    "        fun_rules = {\n",
    "            # Cas où la fonction est une droite\n",
    "            2: (self._inf_vals, self._fst_slp, self._sup_vals),\n",
    "            # la fonction est de forme triangulaire\n",
    "            3: (self._inf_vals, self._fst_slp, self._lst_slp, self._sup_vals),\n",
    "            # forme trapézoidale\n",
    "            4: (self._inf_vals, self._fst_slp, self._cnt_flt, self._lst_slp, self._sup_vals)\n",
    "        }\n",
    "        # Caneva de la fonction \"fuzzy fun\"\n",
    "        def fuzzy_fun(raster):\n",
    "            raster_copy = raster.copy()\n",
    "            try:\n",
    "                # On récupère la liste d'instruction correspondant au nombre d'arguments\n",
    "                for ins in fun_rules[largs]:\n",
    "                    # On applique les fonctions, dans l'ordre du tuple \"fun_rules[largs]\"\n",
    "                    ins(raster, raster_copy, *args)\n",
    "                return raster_copy\n",
    "            except KeyError:\n",
    "                raise ValueError(\"2, 3 or 4 parameters needed\")                  \n",
    "        # Renvoi de la fonction générée\n",
    "        return fuzzy_fun\n",
    "            \n",
    "    def _inf_vals(self, r, r_copy, *args):                   \n",
    "        # degré flou des valeurs inf au plus petit paramètre\n",
    "        r_copy[r < args[0][0]] = args[0][1]\n",
    "\n",
    "    def _fst_slp(self, r, r_copy, *args):\n",
    "        # degré flou des valeurs par la première pente\n",
    "        a = (args[1][1] - args[0][1]) / (args[1][0] - args[0][0])\n",
    "        b = -(args[0][0] * a - args[0][1])\n",
    "        r_copy[(r >= args[0][0]) & (r < args[1][0])] = r[(r >= args[0][0]) & (r < args[1][0])] * a + b\n",
    "            \n",
    "    def _cnt_flt(self, r, r_copy, *args):\n",
    "        # degré flou des valeurs par le plat central\n",
    "        r_copy[(r >= args[1][0]) & (r < args[-2][0])] = args[-2][1]\n",
    "\n",
    "    def _lst_slp(self, r, r_copy, *args):\n",
    "        # degré flou des valeurs par la seconde pente\n",
    "        lv = args[-1]\n",
    "        alv = args[-2]\n",
    "        a = (lv[1] - alv[1]) / (lv[0] - alv[0])\n",
    "        b = -(alv[0] * a - alv[1])\n",
    "        r_copy[(r >= alv[0]) & (r < lv[0])] = r[(r >= alv[0]) & (r < lv[0])] * a + b\n",
    "\n",
    "    def _sup_vals(self, r, r_copy, *args):\n",
    "         # degré flou des valeurs sup au plus grand paramètre\n",
    "        r_copy[r >= args[-1][0]] = args[-1][1]"
   ]
  },
  {
   "cell_type": "markdown",
   "metadata": {},
   "source": [
    "### Définition tracé de fonction de fuzzyfication"
   ]
  },
  {
   "cell_type": "code",
   "execution_count": 110,
   "metadata": {},
   "outputs": [],
   "source": [
    "def plot(self):\n",
    "\n",
    "    x = np.linspace(self.fuzzyfication_parameters[0][0], \n",
    "                    self.fuzzyfication_parameters[-1][0])\n",
    "\n",
    "    y = self.fuzzyfy(x, self.fuzzyfication_parameters)\n",
    "\n",
    "    pyplot.figure()\n",
    "    pyplot.grid(True)\n",
    "    pyplot.plot(x,y)\n",
    "\n",
    "    pyplot.show()\n",
    "\n",
    "    \n",
    "Fuzzyfier.plot = plot"
   ]
  },
  {
   "cell_type": "code",
   "execution_count": 111,
   "metadata": {},
   "outputs": [],
   "source": [
    "class FonctionSpatialisation:\n",
    "    \n",
    "    default_fuzzyfier_strategy = Fuzzyfier\n",
    "    \n",
    "    def __init__(self, raster, fuzzyfier_strategy=None, *args, **kwargs):\n",
    "        self.raster = raster\n",
    "        self.computeraster = np.empty_like(raster)\n",
    "        self.computed = 0\n",
    "        self.fuzzycomputeraster = np.empty_like(raster)\n",
    "        self.fuzzycomputed = 0\n",
    "        \n",
    "        self.fuzzyfier = fuzzyfier_strategy(self) if fuzzyfier_strategy else self.default_fuzzyfier_strategy(self)\n",
    "        \n",
    "    def compute(self, *args, **kwargs):\n",
    "        print(args, kwargs)\n",
    "        self._compute_function(*args, **kwargs)\n",
    "        self.fuzzyfy(*args, **kwargs)\n",
    "        \n",
    "    def fuzzyfy(self, *args, **kwargs):\n",
    "        self.fuzzyfier.fuzzyfy(*args, **kwargs)\n",
    "    \n",
    "    def _compute_function(self, *args, **kwargs):\n",
    "        raise ValueError(\"No compute function\")"
   ]
  },
  {
   "cell_type": "markdown",
   "metadata": {},
   "source": [
    "### Classe FuzzyRaster"
   ]
  },
  {
   "cell_type": "code",
   "execution_count": 125,
   "metadata": {},
   "outputs": [],
   "source": [
    "class FuzzyRaster:\n",
    "    \n",
    "    default_fuzzy_operators_strategy = ZadehOperators\n",
    "    default_fuzzyfier_strategy = FuzzyfierMoreSpeeeeed\n",
    "    \n",
    "    def __init__(self, fuzzy_operators_strategy=None, \n",
    "                 fuzzyfier_strategy=None, **kwargs):\n",
    "        \n",
    "        # Définition des opérateurs flous\n",
    "        if fuzzy_operators_strategy:\n",
    "            self.fuzzy_operators = fuzzy_operators_strategy(self)\n",
    "        else:\n",
    "            self.fuzzy_operators = self.default_fuzzy_operators_strategy(self)\n",
    "            \n",
    "        # Stratégie de fuzzyfication\n",
    "        if fuzzyfier_strategy:\n",
    "            self.fuzzyfier = fuzzyfier_strategy(self)\n",
    "        else:\n",
    "            self.fuzzyfier = self.default_fuzzyfier_strategy(self)\n",
    "\n",
    "        # Construction raster flou\n",
    "        if 'raster' in kwargs:\n",
    "            raster = kwargs.get('raster')\n",
    "            self._init_from_rasterio(raster, window=kwargs.get('window'))\n",
    "        elif 'array' in kwargs:\n",
    "            array = kwargs.get('array')\n",
    "            meta = kwargs.get('meta', None)\n",
    "            self._init_from_numpy(array, meta)\n",
    "        else:\n",
    "            raise ValueError(\"Bad parameters\")\n",
    "\n",
    "        # Fuzzyfication\n",
    "        if 'fuzzyfication_parameters' in kwargs:\n",
    "            fuzzyfication_parameters = kwargs.get('fuzzyfication_parameters')\n",
    "            self.fuzzyfication(fuzzyfication_parameters)\n",
    "            \n",
    "    def fuzzyfication(self, parameters):\n",
    "        self.fuzzy_values = self.fuzzyfier.fuzzyfy(self.crisp_values, parameters)\n",
    "        self.values = self.fuzzy_values\n",
    "        \n",
    "    def _init_from_rasterio(self, raster, **kwargs):\n",
    "        # Construction à partir d'un raster rasterio\n",
    "        self.crisp_values = raster.read(**kwargs)\n",
    "        self.values = self.crisp_values\n",
    "        self.raster_meta = raster.meta\n",
    "    \n",
    "    def _init_from_numpy(self, array, meta=None):\n",
    "        # Construction raster à partir d'un array numpy\n",
    "        self.crisp_values = array\n",
    "        self.values = self.crisp_values\n",
    "        \n",
    "        if meta:\n",
    "            self.raster_meta = meta\n",
    "        else:\n",
    "            try:\n",
    "                count = array.shape[2]\n",
    "            except IndexError:\n",
    "                count = 1\n",
    "            \n",
    "            self.raster_meta = {\n",
    "                'count': count,\n",
    "                'crs': None,\n",
    "                'driver': 'GTiff',\n",
    "                'dtype': array.dtype,\n",
    "                'height': array.shape[0],\n",
    "                'width': array.shape[1],\n",
    "                'nodata': -99999.0,\n",
    "                'transform': None                \n",
    "            }     \n",
    "        \n",
    "    # @property\n",
    "    #def values(self):\n",
    "    #   return self.values[self.values != self.raster_meta['nodata']]\n",
    "        \n",
    "    def plot(self):\n",
    "        mat = pyplot.matshow(self.values[0], cmap='gray')\n",
    "        \n",
    "    def summarize(self):\n",
    "        rastmin = self.values.min()\n",
    "        rastmed = np.median(self.values)\n",
    "        rastmax = self.values.max()\n",
    "          \n",
    "        description_string = \"\"\"\n",
    "        min    : {}\n",
    "        median : {}\n",
    "        max    : {}        \n",
    "        -------------------------------\n",
    "        {}\n",
    "        -------------------------------\n",
    "        {}\n",
    "        \"\"\".format(rastmin, rastmed, rastmax, self.fuzzy_operators, self.fuzzyfier)\n",
    "        \n",
    "        print(description_string)\n",
    "        \n",
    "    def __and__(self, other):\n",
    "        # La gestion des opérations inter-raster est pas top à revoir\n",
    "        # -> construire les paramètres du raster construit \n",
    "        return FuzzyRaster(array=self.fuzzy_operators.norm(other), \n",
    "                           meta=self.raster_meta, \n",
    "                           fuzzy_operators_strategy=self.fuzzy_operators.__class__)\n",
    "    \n",
    "    def __or__(self, other):\n",
    "        return FuzzyRaster(array=self.fuzzy_operators.conorm(other), \n",
    "                           meta=self.raster_meta, \n",
    "                           fuzzy_operators_strategy=self.fuzzy_operators.__class__)\n",
    "          \n",
    "    def write(self, path):\n",
    "    # Ecriture du raster avec les paramètres initaux\n",
    "        with rasterio.open(path,'w', **self.raster_meta) as dst:\n",
    "            dst.write(self.values)"
   ]
  },
  {
   "cell_type": "markdown",
   "metadata": {},
   "source": [
    "### tests"
   ]
  },
  {
   "cell_type": "code",
   "execution_count": null,
   "metadata": {},
   "outputs": [],
   "source": [
    "fuzz = FuzzyRaster(raster=ligne_dist,\n",
    "                   fuzzyfication_parameters=[(25, 1.0), (150, 0.0)])"
   ]
  },
  {
   "cell_type": "code",
   "execution_count": null,
   "metadata": {
    "scrolled": false
   },
   "outputs": [],
   "source": [
    "fuzz.plot()"
   ]
  },
  {
   "cell_type": "code",
   "execution_count": null,
   "metadata": {
    "scrolled": true
   },
   "outputs": [],
   "source": [
    "fuzz2 = FuzzyRaster(raster=ligne_dalt, \n",
    "                   fuzzyfication_parameters=[(0.0, 0.0), (10.0, 1.0)])"
   ]
  },
  {
   "cell_type": "code",
   "execution_count": null,
   "metadata": {},
   "outputs": [],
   "source": [
    "fuzz2.plot()"
   ]
  },
  {
   "cell_type": "code",
   "execution_count": null,
   "metadata": {},
   "outputs": [],
   "source": [
    "fuzz3 = FuzzyRaster(raster=bati_dist, \n",
    "                    fuzzyfication_parameters=[(0,0.0),(10,1.0), (50,1.0),(200,0.0)])"
   ]
  },
  {
   "cell_type": "code",
   "execution_count": null,
   "metadata": {
    "scrolled": false
   },
   "outputs": [],
   "source": [
    "fuzz3.plot()"
   ]
  },
  {
   "cell_type": "code",
   "execution_count": null,
   "metadata": {},
   "outputs": [],
   "source": [
    "fuzz4 = FuzzyRaster(raster=bati_dalt, \n",
    "                   fuzzyfication_parameters=[(-5, 0.0), (15, 1.0)])"
   ]
  },
  {
   "cell_type": "code",
   "execution_count": null,
   "metadata": {},
   "outputs": [],
   "source": [
    "fuzz4.plot()"
   ]
  },
  {
   "cell_type": "code",
   "execution_count": null,
   "metadata": {
    "scrolled": false
   },
   "outputs": [],
   "source": [
    "fuzz_res = (fuzz & fuzz2) | (fuzz3 & fuzz4)"
   ]
  },
  {
   "cell_type": "code",
   "execution_count": null,
   "metadata": {
    "scrolled": false
   },
   "outputs": [],
   "source": [
    "fuzz_res.plot()"
   ]
  },
  {
   "cell_type": "markdown",
   "metadata": {},
   "source": [
    "### Essais visualisation opérateurs flous"
   ]
  },
  {
   "cell_type": "code",
   "execution_count": null,
   "metadata": {},
   "outputs": [],
   "source": [
    "vf1 = fuzz.crisp_values\n",
    "vf2 = fuzz2.crisp_values\n",
    "\n",
    "x = np.linspace(0, 200.0, 100)\n",
    "y = np.linspace(0.0, 50.0, 100)\n",
    "\n",
    "\n",
    "X,Y = np.meshgrid(x,y)\n",
    "\n",
    "class emp:\n",
    "    pass\n",
    "\n",
    "a = emp()\n",
    "b = emp()\n",
    "\n",
    "a.values = X\n",
    "a.fuzzyfyer = FuzzyfierMoreSpeeeeed(a)\n",
    "Xf = a.fuzzyfyer.fuzzyfy(a.values, fuzz.fuzzyfier.fuzzyfication_parameters)\n",
    "a.values = Xf\n",
    "a.fuzzy_operator = NilpotentOperators(a)\n",
    "\n",
    "b.values = Y\n",
    "b.fuzzyfyer = FuzzyfierMoreSpeeeeed(b)\n",
    "Yf = b.fuzzyfyer.fuzzyfy(b.values, fuzz2.fuzzyfier.fuzzyfication_parameters)\n",
    "b.values = Yf\n",
    "\n",
    "Z = a.fuzzy_operator._conorm(b)"
   ]
  },
  {
   "cell_type": "code",
   "execution_count": null,
   "metadata": {
    "scrolled": true
   },
   "outputs": [],
   "source": [
    "fig = pyplot.figure()\n",
    "ax = pyplot.axes(projection='3d')\n",
    "ax.plot_surface(X, Y, Z)\n",
    "ax.set_title('wireframe');\n",
    "ax.invert_xaxis\n",
    "\n",
    "\n",
    "ax.invert_xaxis()"
   ]
  },
  {
   "cell_type": "markdown",
   "metadata": {},
   "source": [
    "### Test normes"
   ]
  },
  {
   "cell_type": "code",
   "execution_count": null,
   "metadata": {},
   "outputs": [],
   "source": [
    "def test_normes(norme):\n",
    "    fuzz = FuzzyRaster(raster=ligne_dist,\n",
    "                   fuzzyfication_parameters=[(25, 1.0), (150, 0.0)], \n",
    "                   fuzzy_operators_strategy=norme)\n",
    "    fuzz2 = FuzzyRaster(raster=ligne_dalt, \n",
    "                   fuzzyfication_parameters=[(0.0, 0.0), (10.0, 1.0)], \n",
    "                   fuzzy_operators_strategy=norme)\n",
    "    fuzz3 = FuzzyRaster(raster=bati_dist, \n",
    "                    fuzzyfication_parameters=[(0,0.0),(10,1.0), (50,1.0),(200,0.0)], \n",
    "                    fuzzy_operators_strategy=norme)\n",
    "    fuzz4 = FuzzyRaster(raster=bati_dalt, \n",
    "                   fuzzyfication_parameters=[(-5, 0.0), (15, 1.0)], \n",
    "                   fuzzy_operators_strategy=norme)\n",
    "    fuzz_res = (fuzz & fuzz2) | (fuzz3 & fuzz4)\n",
    "    #fuzz_res = fuzz3 & fuzz4\n",
    "    \n",
    "    return fuzz_res"
   ]
  },
  {
   "cell_type": "code",
   "execution_count": null,
   "metadata": {},
   "outputs": [],
   "source": [
    "normes = [ZadehOperators, LukasiewiczOperators, ProbabilityOperators, NilpotentOperators, DrasticOperators]"
   ]
  },
  {
   "cell_type": "code",
   "execution_count": null,
   "metadata": {
    "scrolled": false
   },
   "outputs": [],
   "source": [
    "normes_res = [test_normes(i) for i in normes]"
   ]
  },
  {
   "cell_type": "code",
   "execution_count": null,
   "metadata": {
    "scrolled": true
   },
   "outputs": [],
   "source": [
    "normes_res[0].plot()"
   ]
  },
  {
   "cell_type": "code",
   "execution_count": null,
   "metadata": {
    "scrolled": true
   },
   "outputs": [],
   "source": [
    "normes_res[0].write(\"/home/mbunel/Documents/fuzz_res_zadeh.tif\")"
   ]
  },
  {
   "cell_type": "code",
   "execution_count": null,
   "metadata": {
    "scrolled": false
   },
   "outputs": [],
   "source": [
    "normes_res[1].plot()"
   ]
  },
  {
   "cell_type": "code",
   "execution_count": null,
   "metadata": {
    "scrolled": true
   },
   "outputs": [],
   "source": [
    "normes_res[1].write(\"/home/mbunel/Documents/fuzz_res_lucka.tif\")"
   ]
  },
  {
   "cell_type": "code",
   "execution_count": null,
   "metadata": {
    "scrolled": true
   },
   "outputs": [],
   "source": [
    "normes_res[2].plot()"
   ]
  },
  {
   "cell_type": "code",
   "execution_count": null,
   "metadata": {
    "scrolled": true
   },
   "outputs": [],
   "source": [
    "normes_res[2].write(\"/home/mbunel/Documents/fuzz_res_proba.tif\")"
   ]
  },
  {
   "cell_type": "code",
   "execution_count": null,
   "metadata": {
    "scrolled": false
   },
   "outputs": [],
   "source": [
    "normes_res[3].plot()"
   ]
  },
  {
   "cell_type": "code",
   "execution_count": null,
   "metadata": {
    "scrolled": true
   },
   "outputs": [],
   "source": [
    "normes_res[3].write(\"/home/mbunel/Documents/fuzz_res_nilpotent.tif\")"
   ]
  },
  {
   "cell_type": "code",
   "execution_count": null,
   "metadata": {
    "scrolled": true
   },
   "outputs": [],
   "source": [
    "normes_res[4].plot()"
   ]
  },
  {
   "cell_type": "code",
   "execution_count": null,
   "metadata": {
    "scrolled": true
   },
   "outputs": [],
   "source": [
    "normes_res[4].write(\"/home/mbunel/Documents/fuzz_res_drastic.tif\")"
   ]
  },
  {
   "cell_type": "markdown",
   "metadata": {},
   "source": [
    "### Fonction sliding window"
   ]
  },
  {
   "cell_type": "markdown",
   "metadata": {},
   "source": [
    "source : https://gist.github.com/teoliphant/96eb779a16bd038e374f2703da62f06d"
   ]
  },
  {
   "cell_type": "markdown",
   "metadata": {},
   "source": [
    "### Fuzzy raster en module"
   ]
  },
  {
   "cell_type": "code",
   "execution_count": 22,
   "metadata": {
    "scrolled": false
   },
   "outputs": [
    {
     "name": "stdout",
     "output_type": "stream",
     "text": [
      "/home/mbunel/Documents/Code/Ruitor/src\n"
     ]
    }
   ],
   "source": [
    "cd ~/Documents/Code/Ruitor/src"
   ]
  },
  {
   "cell_type": "code",
   "execution_count": 23,
   "metadata": {
    "scrolled": false
   },
   "outputs": [],
   "source": [
    "from fuzzyUtils.FuzzyRaster import FuzzyRaster\n",
    "from spatialisation.Spatialisation import Proximity"
   ]
  },
  {
   "cell_type": "code",
   "execution_count": 26,
   "metadata": {
    "scrolled": true
   },
   "outputs": [],
   "source": [
    "aa = Proximity(out).compute([(100, 1.0)])"
   ]
  },
  {
   "cell_type": "code",
   "execution_count": 27,
   "metadata": {},
   "outputs": [
    {
     "data": {
      "image/png": "[encoded data removed]",
      "text/plain": [
       "<Figure size 330.368x288 with 1 Axes>"
      ]
     },
     "metadata": {},
     "output_type": "display_data"
    }
   ],
   "source": [
    "aa.plot()"
   ]
  },
  {
   "cell_type": "markdown",
   "metadata": {},
   "source": [
    "### Tests nouvelles métriques"
   ]
  },
  {
   "cell_type": "code",
   "execution_count": null,
   "metadata": {},
   "outputs": [],
   "source": [
    "pyplot.matshow(out)"
   ]
  },
  {
   "cell_type": "code",
   "execution_count": null,
   "metadata": {},
   "outputs": [],
   "source": [
    "notnullcells = np.argwhere(out != 0)"
   ]
  },
  {
   "cell_type": "code",
   "execution_count": null,
   "metadata": {},
   "outputs": [],
   "source": [
    "distance_raster = np.empty_like(out)\n",
    "distance_raster = np.expand_dims(distance_raster, axis=2)"
   ]
  },
  {
   "cell_type": "code",
   "execution_count": null,
   "metadata": {},
   "outputs": [],
   "source": [
    "distance_raster = np.empty_like(out)\n",
    "distance_raster = np.expand_dims(distance_raster, axis=2)\n",
    "\n",
    "it = np.nditer(out, flags=['multi_index'])\n",
    "\n",
    "while not it.finished:\n",
    "    # Calcul de la distance au plus proche voisin\n",
    "    dist = np.sqrt(np.sum(np.square(notnullcells - it.multi_index), axis=1))\n",
    "    np.insert(distance_raster[it.multi_index], dist, axis=2)"
   ]
  },
  {
   "cell_type": "code",
   "execution_count": null,
   "metadata": {},
   "outputs": [],
   "source": [
    "azimut_raster = np.empty_like(out)"
   ]
  },
  {
   "cell_type": "code",
   "execution_count": null,
   "metadata": {},
   "outputs": [],
   "source": [
    "it = np.nditer(out, flags=['multi_index'])\n",
    "\n",
    "while not it.finished:\n",
    "    # Calcul de la distance au plus proche voisin\n",
    "    az = "
   ]
  },
  {
   "cell_type": "code",
   "execution_count": null,
   "metadata": {},
   "outputs": [],
   "source": [
    "class FuzzyficationFunction(list):\n",
    "\n",
    "    ftypes = {\n",
    "        2: 'linear',\n",
    "        3: 'triangular',\n",
    "        4: 'trapezoidal'\n",
    "    }\n",
    "    \n",
    "    def __init__(self, *args):\n",
    "        super().__init__(*args)\n",
    "        sorted(self, key=lambda x: x[0])\n",
    "\n",
    "        self.ftype = self.ftypes[len(self)]"
   ]
  },
  {
   "cell_type": "code",
   "execution_count": null,
   "metadata": {},
   "outputs": [],
   "source": [
    "FuzzyficationFunction([(5, 1.0), (10, 0.0)]).ftype"
   ]
  }
 ],
 "metadata": {
  "kernelspec": {
   "display_name": "Python 3",
   "language": "python",
   "name": "python3"
  },
  "language_info": {
   "codemirror_mode": {
    "name": "ipython",
    "version": 3
   },
   "file_extension": ".py",
   "mimetype": "text/x-python",
   "name": "python",
   "nbconvert_exporter": "python",
   "pygments_lexer": "ipython3",
   "version": "3.5.2"
  }
 },
 "nbformat": 4,
 "nbformat_minor": 2
}
