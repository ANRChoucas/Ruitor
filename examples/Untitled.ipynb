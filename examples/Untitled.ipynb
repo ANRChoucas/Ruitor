{
 "cells": [
  {
   "cell_type": "markdown",
   "metadata": {},
   "source": [
    "# Génération documentation ontologie"
   ]
  },
  {
   "cell_type": "code",
   "execution_count": 2,
   "metadata": {},
   "outputs": [],
   "source": [
    "import rdflib\n",
    "from rdflib import RDF, OWL"
   ]
  },
  {
   "cell_type": "code",
   "execution_count": 63,
   "metadata": {},
   "outputs": [],
   "source": [
    "g = rdflib.Graph()\n",
    "result = g.parse(\"/home/mbunel/Documents/Ontologie/RelationsSpatiales/Relations_spatiales 8.owl\")"
   ]
  },
  {
   "cell_type": "code",
   "execution_count": 142,
   "metadata": {},
   "outputs": [
    {
     "ename": "SAXParseException",
     "evalue": "file:///usr/local/lib/python3.5/dist-packages/ipykernel_launcher.py:1:2: not well-formed (invalid token)",
     "output_type": "error",
     "traceback": [
      "\u001b[0;31m---------------------------------------------------------------------------\u001b[0m",
      "\u001b[0;31mExpatError\u001b[0m                                Traceback (most recent call last)",
      "\u001b[0;32m/usr/lib/python3.5/xml/sax/expatreader.py\u001b[0m in \u001b[0;36mfeed\u001b[0;34m(self, data, isFinal)\u001b[0m\n\u001b[1;32m    209\u001b[0m             \u001b[0;31m# except when invoked from close.\u001b[0m\u001b[0;34m\u001b[0m\u001b[0;34m\u001b[0m\u001b[0m\n\u001b[0;32m--> 210\u001b[0;31m             \u001b[0mself\u001b[0m\u001b[0;34m.\u001b[0m\u001b[0m_parser\u001b[0m\u001b[0;34m.\u001b[0m\u001b[0mParse\u001b[0m\u001b[0;34m(\u001b[0m\u001b[0mdata\u001b[0m\u001b[0;34m,\u001b[0m \u001b[0misFinal\u001b[0m\u001b[0;34m)\u001b[0m\u001b[0;34m\u001b[0m\u001b[0m\n\u001b[0m\u001b[1;32m    211\u001b[0m         \u001b[0;32mexcept\u001b[0m \u001b[0mexpat\u001b[0m\u001b[0;34m.\u001b[0m\u001b[0merror\u001b[0m \u001b[0;32mas\u001b[0m \u001b[0me\u001b[0m\u001b[0;34m:\u001b[0m\u001b[0;34m\u001b[0m\u001b[0m\n",
      "\u001b[0;31mExpatError\u001b[0m: not well-formed (invalid token): line 1, column 2",
      "\nDuring handling of the above exception, another exception occurred:\n",
      "\u001b[0;31mSAXParseException\u001b[0m                         Traceback (most recent call last)",
      "\u001b[0;32m<ipython-input-142-9e67774c3436>\u001b[0m in \u001b[0;36m<module>\u001b[0;34m()\u001b[0m\n\u001b[1;32m     41\u001b[0m \u001b[0;34m\u001b[0m\u001b[0m\n\u001b[1;32m     42\u001b[0m     \u001b[0mg\u001b[0m \u001b[0;34m=\u001b[0m \u001b[0mrdflib\u001b[0m\u001b[0;34m.\u001b[0m\u001b[0mGraph\u001b[0m\u001b[0;34m(\u001b[0m\u001b[0;34m)\u001b[0m\u001b[0;34m\u001b[0m\u001b[0m\n\u001b[0;32m---> 43\u001b[0;31m     \u001b[0mresult\u001b[0m \u001b[0;34m=\u001b[0m \u001b[0mg\u001b[0m\u001b[0;34m.\u001b[0m\u001b[0mparse\u001b[0m\u001b[0;34m(\u001b[0m\u001b[0mpath\u001b[0m\u001b[0;34m)\u001b[0m\u001b[0;34m\u001b[0m\u001b[0m\n\u001b[0m\u001b[1;32m     44\u001b[0m \u001b[0;34m\u001b[0m\u001b[0m\n\u001b[1;32m     45\u001b[0m     \u001b[0mtpe\u001b[0m \u001b[0;34m=\u001b[0m \u001b[0mrdflib\u001b[0m\u001b[0;34m.\u001b[0m\u001b[0mterm\u001b[0m\u001b[0;34m.\u001b[0m\u001b[0mURIRef\u001b[0m\u001b[0;34m(\u001b[0m\u001b[0;34m'http://www.semanticweb.org/mbunel/ontologies/Ornitho#Relation_spatiale'\u001b[0m\u001b[0;34m)\u001b[0m\u001b[0;34m\u001b[0m\u001b[0m\n",
      "\u001b[0;32m/usr/local/lib/python3.5/dist-packages/rdflib/graph.py\u001b[0m in \u001b[0;36mparse\u001b[0;34m(self, source, publicID, format, location, file, data, **args)\u001b[0m\n\u001b[1;32m   1041\u001b[0m         \u001b[0mparser\u001b[0m \u001b[0;34m=\u001b[0m \u001b[0mplugin\u001b[0m\u001b[0;34m.\u001b[0m\u001b[0mget\u001b[0m\u001b[0;34m(\u001b[0m\u001b[0mformat\u001b[0m\u001b[0;34m,\u001b[0m \u001b[0mParser\u001b[0m\u001b[0;34m)\u001b[0m\u001b[0;34m(\u001b[0m\u001b[0;34m)\u001b[0m\u001b[0;34m\u001b[0m\u001b[0m\n\u001b[1;32m   1042\u001b[0m         \u001b[0;32mtry\u001b[0m\u001b[0;34m:\u001b[0m\u001b[0;34m\u001b[0m\u001b[0m\n\u001b[0;32m-> 1043\u001b[0;31m             \u001b[0mparser\u001b[0m\u001b[0;34m.\u001b[0m\u001b[0mparse\u001b[0m\u001b[0;34m(\u001b[0m\u001b[0msource\u001b[0m\u001b[0;34m,\u001b[0m \u001b[0mself\u001b[0m\u001b[0;34m,\u001b[0m \u001b[0;34m**\u001b[0m\u001b[0margs\u001b[0m\u001b[0;34m)\u001b[0m\u001b[0;34m\u001b[0m\u001b[0m\n\u001b[0m\u001b[1;32m   1044\u001b[0m         \u001b[0;32mfinally\u001b[0m\u001b[0;34m:\u001b[0m\u001b[0;34m\u001b[0m\u001b[0m\n\u001b[1;32m   1045\u001b[0m             \u001b[0;32mif\u001b[0m \u001b[0msource\u001b[0m\u001b[0;34m.\u001b[0m\u001b[0mauto_close\u001b[0m\u001b[0;34m:\u001b[0m\u001b[0;34m\u001b[0m\u001b[0m\n",
      "\u001b[0;32m/usr/local/lib/python3.5/dist-packages/rdflib/plugins/parsers/rdfxml.py\u001b[0m in \u001b[0;36mparse\u001b[0;34m(self, source, sink, **args)\u001b[0m\n\u001b[1;32m    576\u001b[0m         \u001b[0;31m# content_handler.reset()\u001b[0m\u001b[0;34m\u001b[0m\u001b[0;34m\u001b[0m\u001b[0m\n\u001b[1;32m    577\u001b[0m         \u001b[0;31m# self._parser.reset()\u001b[0m\u001b[0;34m\u001b[0m\u001b[0;34m\u001b[0m\u001b[0m\n\u001b[0;32m--> 578\u001b[0;31m         \u001b[0mself\u001b[0m\u001b[0;34m.\u001b[0m\u001b[0m_parser\u001b[0m\u001b[0;34m.\u001b[0m\u001b[0mparse\u001b[0m\u001b[0;34m(\u001b[0m\u001b[0msource\u001b[0m\u001b[0;34m)\u001b[0m\u001b[0;34m\u001b[0m\u001b[0m\n\u001b[0m",
      "\u001b[0;32m/usr/lib/python3.5/xml/sax/expatreader.py\u001b[0m in \u001b[0;36mparse\u001b[0;34m(self, source)\u001b[0m\n\u001b[1;32m    108\u001b[0m         \u001b[0mself\u001b[0m\u001b[0;34m.\u001b[0m\u001b[0mreset\u001b[0m\u001b[0;34m(\u001b[0m\u001b[0;34m)\u001b[0m\u001b[0;34m\u001b[0m\u001b[0m\n\u001b[1;32m    109\u001b[0m         \u001b[0mself\u001b[0m\u001b[0;34m.\u001b[0m\u001b[0m_cont_handler\u001b[0m\u001b[0;34m.\u001b[0m\u001b[0msetDocumentLocator\u001b[0m\u001b[0;34m(\u001b[0m\u001b[0mExpatLocator\u001b[0m\u001b[0;34m(\u001b[0m\u001b[0mself\u001b[0m\u001b[0;34m)\u001b[0m\u001b[0;34m)\u001b[0m\u001b[0;34m\u001b[0m\u001b[0m\n\u001b[0;32m--> 110\u001b[0;31m         \u001b[0mxmlreader\u001b[0m\u001b[0;34m.\u001b[0m\u001b[0mIncrementalParser\u001b[0m\u001b[0;34m.\u001b[0m\u001b[0mparse\u001b[0m\u001b[0;34m(\u001b[0m\u001b[0mself\u001b[0m\u001b[0;34m,\u001b[0m \u001b[0msource\u001b[0m\u001b[0;34m)\u001b[0m\u001b[0;34m\u001b[0m\u001b[0m\n\u001b[0m\u001b[1;32m    111\u001b[0m \u001b[0;34m\u001b[0m\u001b[0m\n\u001b[1;32m    112\u001b[0m     \u001b[0;32mdef\u001b[0m \u001b[0mprepareParser\u001b[0m\u001b[0;34m(\u001b[0m\u001b[0mself\u001b[0m\u001b[0;34m,\u001b[0m \u001b[0msource\u001b[0m\u001b[0;34m)\u001b[0m\u001b[0;34m:\u001b[0m\u001b[0;34m\u001b[0m\u001b[0m\n",
      "\u001b[0;32m/usr/lib/python3.5/xml/sax/xmlreader.py\u001b[0m in \u001b[0;36mparse\u001b[0;34m(self, source)\u001b[0m\n\u001b[1;32m    123\u001b[0m         \u001b[0mbuffer\u001b[0m \u001b[0;34m=\u001b[0m \u001b[0mfile\u001b[0m\u001b[0;34m.\u001b[0m\u001b[0mread\u001b[0m\u001b[0;34m(\u001b[0m\u001b[0mself\u001b[0m\u001b[0;34m.\u001b[0m\u001b[0m_bufsize\u001b[0m\u001b[0;34m)\u001b[0m\u001b[0;34m\u001b[0m\u001b[0m\n\u001b[1;32m    124\u001b[0m         \u001b[0;32mwhile\u001b[0m \u001b[0mbuffer\u001b[0m\u001b[0;34m:\u001b[0m\u001b[0;34m\u001b[0m\u001b[0m\n\u001b[0;32m--> 125\u001b[0;31m             \u001b[0mself\u001b[0m\u001b[0;34m.\u001b[0m\u001b[0mfeed\u001b[0m\u001b[0;34m(\u001b[0m\u001b[0mbuffer\u001b[0m\u001b[0;34m)\u001b[0m\u001b[0;34m\u001b[0m\u001b[0m\n\u001b[0m\u001b[1;32m    126\u001b[0m             \u001b[0mbuffer\u001b[0m \u001b[0;34m=\u001b[0m \u001b[0mfile\u001b[0m\u001b[0;34m.\u001b[0m\u001b[0mread\u001b[0m\u001b[0;34m(\u001b[0m\u001b[0mself\u001b[0m\u001b[0;34m.\u001b[0m\u001b[0m_bufsize\u001b[0m\u001b[0;34m)\u001b[0m\u001b[0;34m\u001b[0m\u001b[0m\n\u001b[1;32m    127\u001b[0m         \u001b[0mself\u001b[0m\u001b[0;34m.\u001b[0m\u001b[0mclose\u001b[0m\u001b[0;34m(\u001b[0m\u001b[0;34m)\u001b[0m\u001b[0;34m\u001b[0m\u001b[0m\n",
      "\u001b[0;32m/usr/lib/python3.5/xml/sax/expatreader.py\u001b[0m in \u001b[0;36mfeed\u001b[0;34m(self, data, isFinal)\u001b[0m\n\u001b[1;32m    212\u001b[0m             \u001b[0mexc\u001b[0m \u001b[0;34m=\u001b[0m \u001b[0mSAXParseException\u001b[0m\u001b[0;34m(\u001b[0m\u001b[0mexpat\u001b[0m\u001b[0;34m.\u001b[0m\u001b[0mErrorString\u001b[0m\u001b[0;34m(\u001b[0m\u001b[0me\u001b[0m\u001b[0;34m.\u001b[0m\u001b[0mcode\u001b[0m\u001b[0;34m)\u001b[0m\u001b[0;34m,\u001b[0m \u001b[0me\u001b[0m\u001b[0;34m,\u001b[0m \u001b[0mself\u001b[0m\u001b[0;34m)\u001b[0m\u001b[0;34m\u001b[0m\u001b[0m\n\u001b[1;32m    213\u001b[0m             \u001b[0;31m# FIXME: when to invoke error()?\u001b[0m\u001b[0;34m\u001b[0m\u001b[0;34m\u001b[0m\u001b[0m\n\u001b[0;32m--> 214\u001b[0;31m             \u001b[0mself\u001b[0m\u001b[0;34m.\u001b[0m\u001b[0m_err_handler\u001b[0m\u001b[0;34m.\u001b[0m\u001b[0mfatalError\u001b[0m\u001b[0;34m(\u001b[0m\u001b[0mexc\u001b[0m\u001b[0;34m)\u001b[0m\u001b[0;34m\u001b[0m\u001b[0m\n\u001b[0m\u001b[1;32m    215\u001b[0m \u001b[0;34m\u001b[0m\u001b[0m\n\u001b[1;32m    216\u001b[0m     \u001b[0;32mdef\u001b[0m \u001b[0mclose\u001b[0m\u001b[0;34m(\u001b[0m\u001b[0mself\u001b[0m\u001b[0;34m)\u001b[0m\u001b[0;34m:\u001b[0m\u001b[0;34m\u001b[0m\u001b[0m\n",
      "\u001b[0;32m/usr/lib/python3.5/xml/sax/handler.py\u001b[0m in \u001b[0;36mfatalError\u001b[0;34m(self, exception)\u001b[0m\n\u001b[1;32m     36\u001b[0m     \u001b[0;32mdef\u001b[0m \u001b[0mfatalError\u001b[0m\u001b[0;34m(\u001b[0m\u001b[0mself\u001b[0m\u001b[0;34m,\u001b[0m \u001b[0mexception\u001b[0m\u001b[0;34m)\u001b[0m\u001b[0;34m:\u001b[0m\u001b[0;34m\u001b[0m\u001b[0m\n\u001b[1;32m     37\u001b[0m         \u001b[0;34m\"Handle a non-recoverable error.\"\u001b[0m\u001b[0;34m\u001b[0m\u001b[0m\n\u001b[0;32m---> 38\u001b[0;31m         \u001b[0;32mraise\u001b[0m \u001b[0mexception\u001b[0m\u001b[0;34m\u001b[0m\u001b[0m\n\u001b[0m\u001b[1;32m     39\u001b[0m \u001b[0;34m\u001b[0m\u001b[0m\n\u001b[1;32m     40\u001b[0m     \u001b[0;32mdef\u001b[0m \u001b[0mwarning\u001b[0m\u001b[0;34m(\u001b[0m\u001b[0mself\u001b[0m\u001b[0;34m,\u001b[0m \u001b[0mexception\u001b[0m\u001b[0;34m)\u001b[0m\u001b[0;34m:\u001b[0m\u001b[0;34m\u001b[0m\u001b[0m\n",
      "\u001b[0;31mSAXParseException\u001b[0m: file:///usr/local/lib/python3.5/dist-packages/ipykernel_launcher.py:1:2: not well-formed (invalid token)"
     ]
    }
   ],
   "source": [
    "import sys\n",
    "import rdflib\n",
    "\n",
    "class classDescriptor:\n",
    "    \n",
    "    def __init__(self, graph, uriClass):\n",
    "        \n",
    "        self.subClassUri = rdflib.term.URIRef('http://www.w3.org/2000/01/rdf-schema#subClassOf')\n",
    "        \n",
    "        uriClassList = classes_rel_spa = list(g.subjects(self.subClassUri, uriClass))\n",
    "        self.descriptor = { k:{'url':k} for k in uriClassList}\n",
    "        \n",
    "        for i in uriClassList:\n",
    "            self.descriptor[i]['label'] = list(g.objects(i, rdflib.term.URIRef('http://www.w3.org/2000/01/rdf-schema#label')))\n",
    "            self.descriptor[i]['description'] = list(g.objects(i, rdflib.term.URIRef('http://www.w3.org/2000/01/rdf-schema#comment')))\n",
    "        \n",
    "    def out(self):\n",
    "        \n",
    "        lines = []\n",
    "        for k,v in self.descriptor.items():\n",
    "            for l in v['label']:\n",
    "                lines.append(\"%s\" % l.toPython())\n",
    "            lines.append(\"/n\")\n",
    "            lines.append(\"/t%s/n\" % v['url'])\n",
    "\n",
    "            for d in v['description']:\n",
    "                lines.append(\"%s/n\" % d.toPython())\n",
    "            lines.append(\"/n\")\n",
    "        return lines\n",
    "    \n",
    "        for l in lines:\n",
    "            sys.stdout.write(l)\n",
    "            \n",
    "        sys.stdout.flush()\n",
    "        sys.exit(0)\n",
    "        \n",
    "        \n",
    "if __name__ == \"__main__\":\n",
    "    \n",
    "    path = sys.argv[0]\n",
    "    \n",
    "    g = rdflib.Graph()\n",
    "    result = g.parse(path)\n",
    "    \n",
    "    tpe = rdflib.term.URIRef('http://www.semanticweb.org/mbunel/ontologies/Ornitho#Relation_spatiale')\n",
    "    aa = classDescriptor(g, tpe)\n",
    "    aa.out()"
   ]
  },
  {
   "cell_type": "code",
   "execution_count": 27,
   "metadata": {
    "scrolled": false
   },
   "outputs": [
    {
     "data": {
      "text/plain": [
       "[(rdflib.term.URIRef('http://www.w3.org/1999/02/22-rdf-syntax-ns#type'),\n",
       "  rdflib.term.URIRef('http://www.w3.org/2002/07/owl#Class')),\n",
       " (rdflib.term.URIRef('http://www.w3.org/2000/01/rdf-schema#label'),\n",
       "  rdflib.term.Literal(\"De l'autre côté de par rapport à\", lang='fr')),\n",
       " (rdflib.term.URIRef('http://www.w3.org/2000/01/rdf-schema#subClassOf'),\n",
       "  rdflib.term.URIRef('http://www.semanticweb.org/mbunel/ontologies/Ornitho#Relation_spatiale'))]"
      ]
     },
     "execution_count": 27,
     "metadata": {},
     "output_type": "execute_result"
    }
   ],
   "source": [
    "list(g.predicate_objects(rdflib.term.URIRef('http://www.semanticweb.org/mbunel/ontologies/Ornitho#DeAutreCoteDeParRapportA')))"
   ]
  },
  {
   "cell_type": "markdown",
   "metadata": {},
   "source": [
    "## Extraction classes"
   ]
  },
  {
   "cell_type": "code",
   "execution_count": 119,
   "metadata": {},
   "outputs": [],
   "source": [
    "tpe = rdflib.term.URIRef('http://www.semanticweb.org/mbunel/ontologies/Ornitho#Relation_spatiale')"
   ]
  },
  {
   "cell_type": "code",
   "execution_count": 137,
   "metadata": {
    "scrolled": false
   },
   "outputs": [],
   "source": [
    "aa = classDescriptor(g, tpe)"
   ]
  },
  {
   "cell_type": "code",
   "execution_count": 138,
   "metadata": {
    "scrolled": true
   },
   "outputs": [
    {
     "data": {
      "text/plain": [
       "[\"À l'est de\",\n",
       " '/n',\n",
       " 'http://www.semanticweb.org/mbunel/ontologies/Ornitho#AEstDe/n',\n",
       " 'La cible se situe globalement à l’est du site, sans préciser si elle est à dans la partie est du site ou disjointe du site et à l’est de lui./n',\n",
       " '/n',\n",
       " 'Au sud de',\n",
       " '/n',\n",
       " 'http://www.semanticweb.org/mbunel/ontologies/Ornitho#AuSudDe/n',\n",
       " '/n',\n",
       " 'À la même altitude que',\n",
       " '/n',\n",
       " 'http://www.semanticweb.org/mbunel/ontologies/Ornitho#ALaMemeAltitudeQue/n',\n",
       " 'La cible est située à la même altitude que le site. Le site peut être une altitude absolue (=> donc plus ou moins une courbe de niveau ou un «\\xa0plan de niveau\\xa0»), ou un objet dont l’altitude sert donc de référence./n',\n",
       " '/n',\n",
       " \"Au dessus d'une altitude\",\n",
       " '/n',\n",
       " 'http://www.semanticweb.org/mbunel/ontologies/Ornitho#AuDessusDeAltitude/n',\n",
       " 'La cible a une altitude supérieure à celle du site. La distance entre le site est la cible n’est pas contraignante./n',\n",
       " '/n',\n",
       " 'Distance quantitative planimétrique',\n",
       " '/n',\n",
       " 'http://www.semanticweb.org/mbunel/ontologies/Ornitho#DistanceQuantitativePlanimetrique/n',\n",
       " 'La cible est à telle distance du site, exprimée dans une unité de longueur (pas un temps de marche/accès). La distance considérée est planimétrique. Si relief en pente «\\xa0pas trop forte\\xa0», ça peut être le long de la pente, mais il ne s’agit pas d’un dénivelé./n',\n",
       " '/n',\n",
       " 'Sous une altitude',\n",
       " '/n',\n",
       " 'http://www.semanticweb.org/mbunel/ontologies/Ornitho#SousAltitude/n',\n",
       " 'La cible a une altitude inférieure à celle du site. Sa distance au site n’est pas contrainte./n',\n",
       " '/n',\n",
       " 'Situé sur itinéraire ou réseau support',\n",
       " '/n',\n",
       " 'http://www.semanticweb.org/mbunel/ontologies/Ornitho#SitueSurItineraireOuReseauSupport/n',\n",
       " 'La cible se situe sur un réseau ou un itinéraire. Le «\\xa0sur\\xa0» a ici un sens fonctionnel. Le site peut être un élément de réseau au sens large\\xa0: réseau parcourable à pied, réseau de pistes de ski, voies d’escalade ou d’alpinisme, réseau hydro (par ex. en kayak ou canyoning), itinéraire de ski de rando… Aucun a priori n’est considéré sur la modélisation géométrique du réseau dans les données. Il n’y a pas nécessairement de connexion topologique entre la cible et le site\\xa0: la cible peut se trouver de faite légèrement éloignée de l’élément de réseau (ex\\xa0: cas d’une aire de pique-nique accesible depuis le réseau de randonnée pédestre)./n',\n",
       " '/n',\n",
       " \"À l'ouest de\",\n",
       " '/n',\n",
       " 'http://www.semanticweb.org/mbunel/ontologies/Ornitho#AOuestDe/n',\n",
       " 'La cible se situe globalement à l’Ouest du site, sans préciser si elle est à dans la partie ouest du site ou disjointe du site et à l’ouest de lui./n',\n",
       " '/n',\n",
       " 'Du même côté que par rapport à',\n",
       " '/n',\n",
       " 'http://www.semanticweb.org/mbunel/ontologies/Ornitho#DuMemeCoteQueParRapportA/n',\n",
       " 'La cible située du même côté que le site 1, par rapport au site 2. Cela suppose qu’on peut partitionner l’espace en deux zones appelées les deux «\\xa0côtés\\xa0» du site 2. Selon la forme et la nature du site 2 (et son contexte spatial)\\xa0: soit le site le site 2 a intrinsèquement deux côtés (un col, une crète, une rivère, une ville située sur une rivière)… Soit, pour deux sites assimilables à des ponctuels et sans contexte spatial particulier, c’est le couple (site 1, site 2) qui permet de définir deux côtés au site 2\\xa0: un côté qui contient le site 1, et un côté qui ne le contient pas. Typiquement la limite est alors la perpendiculaire au segment joignant les site 1 au site 2, passant par le site 2. DuMemeCoteQueParRapportA est l’exact opposé de DeLAutreCoteDeParRapportA./n',\n",
       " '/n',\n",
       " 'Entre X et Y',\n",
       " '/n',\n",
       " 'http://www.semanticweb.org/mbunel/ontologies/Ornitho#EntreX&Y/n',\n",
       " 'Il faut DEUX sites ici (site1 et site2). La cible est située entre les deux. Le cadre de référence est particulièrement important ici. Il faudra le modéliser pour pouvoir spatialiser une relation comme celle-là. Par exemple, si les deux sites peuvent être considérés comme de faible extension spatiale (donc assimilables à des ponctuels), le cadre de référence peut inclure un ou plusieurs tracés à une dimension qui relient les deux sites\\xa0: tracé d’un itinéraire, etc. (ou une ligne droite en l’absence d’information). Si l’extension spatiale est plus importante, on peut définir une zone «\\xa0entre les deux\\xa0» comme dans le modèle 5IM (Clementini et Billen 2006). Mais attention aux cas déictiques comme «\\xa0je vois Z entre X et Y\\xa0» ou «\\xa0nagez entre les deux poteaux\\xa0» de Bateman et al. 2010./n',\n",
       " '/n',\n",
       " 'Aux alentours de',\n",
       " '/n',\n",
       " 'http://www.semanticweb.org/mbunel/ontologies/Ornitho#AuxAlentoursDe/n',\n",
       " 'La cible est suffisamment proche du site pour qu’on puisse considérer que le site reste un point de repère qui a un sens. La proximité qui pourrait s’en déduire est généralement dépendante d’un «\\xa0rayonnement\\xa0» qui pourrait êtrre affecté au site (lié à sa renommée, à sa taille typiquemnet pour un lieu habité, à sa saillance...). Il peut y avoir connexion topologique entre la cible et le site, ou pas. Exemple\\xa0: «\\xa0je suis dans le coin du mont-Blanc\\xa0»./n',\n",
       " '/n',\n",
       " 'À distance temps',\n",
       " '/n',\n",
       " 'http://www.semanticweb.org/mbunel/ontologies/Ornitho#ADistanceTemps/n',\n",
       " 'La cible est à une certaine distance du site. Cette distance est exprimée en temps de parcours. Il est par conséquent nécessaire de connaître le mode de déplacement ou la vitesse de déplacement./n',\n",
       " '/n',\n",
       " 'À distance qualitative relative',\n",
       " '/n',\n",
       " 'http://www.semanticweb.org/mbunel/ontologies/Ornitho#ADistanceQuantitativeRelative/n',\n",
       " 'La cible est située à une certaine distance du site. Cette distance est quantitative et est exprimée par une métrique dépendant du site (eg. À un pâté de maisons). Il n’y a pas de contrainte sur la dimension de la distance, elle peut être planimétrique, altimétrique ou les deux ./n',\n",
       " '/n',\n",
       " 'X voit Y',\n",
       " '/n',\n",
       " 'http://www.semanticweb.org/mbunel/ontologies/Ornitho#XVoitY/n',\n",
       " 'Le site Y est visible depuis la cible X./n',\n",
       " '/n',\n",
       " \"De l'autre côté de par rapport à\",\n",
       " '/n',\n",
       " 'http://www.semanticweb.org/mbunel/ontologies/Ornitho#DeAutreCoteDeParRapportA/n',\n",
       " '/n',\n",
       " 'Au nord de',\n",
       " '/n',\n",
       " 'http://www.semanticweb.org/mbunel/ontologies/Ornitho#AuNordDe/n',\n",
       " '/n',\n",
       " 'À droite de',\n",
       " '/n',\n",
       " 'http://www.semanticweb.org/mbunel/ontologies/Ornitho#ADroiteDe/n',\n",
       " 'La cible est à droite de l’objet de référence. Ce concept nécessite de connaître l’orientation de la cible/n',\n",
       " '/n',\n",
       " 'À la gauche de',\n",
       " '/n',\n",
       " 'http://www.semanticweb.org/mbunel/ontologies/Ornitho#AGaucheDe/n',\n",
       " '/n']"
      ]
     },
     "execution_count": 138,
     "metadata": {},
     "output_type": "execute_result"
    }
   ],
   "source": [
    "aa.out()"
   ]
  },
  {
   "cell_type": "code",
   "execution_count": 109,
   "metadata": {},
   "outputs": [],
   "source": [
    "test = rdflib.term.Literal(\"De l'autre côté de par rapport à\", lang='fr')"
   ]
  },
  {
   "cell_type": "code",
   "execution_count": 111,
   "metadata": {},
   "outputs": [
    {
     "data": {
      "text/plain": [
       "\"De l'autre côté de par rapport à\""
      ]
     },
     "execution_count": 111,
     "metadata": {},
     "output_type": "execute_result"
    }
   ],
   "source": [
    "test.toPython()"
   ]
  }
 ],
 "metadata": {
  "kernelspec": {
   "display_name": "Python 3",
   "language": "python",
   "name": "python3"
  },
  "language_info": {
   "codemirror_mode": {
    "name": "ipython",
    "version": 3
   },
   "file_extension": ".py",
   "mimetype": "text/x-python",
   "name": "python",
   "nbconvert_exporter": "python",
   "pygments_lexer": "ipython3",
   "version": "3.5.2"
  }
 },
 "nbformat": 4,
 "nbformat_minor": 2
}
