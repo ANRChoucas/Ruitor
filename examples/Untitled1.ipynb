{
 "cells": [
  {
   "cell_type": "code",
   "execution_count": null,
   "metadata": {},
   "outputs": [],
   "source": []
  },
  {
   "cell_type": "code",
   "execution_count": 216,
   "metadata": {},
   "outputs": [],
   "source": [
    "import rdflib\n",
    "from rdflib import RDF, OWL"
   ]
  },
  {
   "cell_type": "code",
   "execution_count": 227,
   "metadata": {},
   "outputs": [],
   "source": [
    "g = rdflib.Graph()\n",
    "result = g.parse(\"/home/mbunel/Documents/Code/Ruitor/data/ontologies/relations_spatiales.owl\")"
   ]
  },
  {
   "cell_type": "code",
   "execution_count": 228,
   "metadata": {},
   "outputs": [],
   "source": [
    "nn = rdflib.Namespace(\"http://www.semanticweb.org/mbunel/ontologies/Ornitho#\")"
   ]
  },
  {
   "cell_type": "code",
   "execution_count": 229,
   "metadata": {},
   "outputs": [],
   "source": [
    "ss = nn.Relation_spatiale_atomique\n",
    "am = nn.hasMetric"
   ]
  },
  {
   "cell_type": "code",
   "execution_count": 230,
   "metadata": {},
   "outputs": [
    {
     "data": {
      "text/plain": [
       "rdflib.term.URIRef('http://www.semanticweb.org/mbunel/ontologies/Ornitho#hasMetric')"
      ]
     },
     "execution_count": 230,
     "metadata": {},
     "output_type": "execute_result"
    }
   ],
   "source": [
    "am"
   ]
  },
  {
   "cell_type": "code",
   "execution_count": 231,
   "metadata": {
    "scrolled": true
   },
   "outputs": [],
   "source": [
    "qres = g.query(\n",
    "    \"\"\"SELECT ?a ?b ?c\n",
    "       WHERE {\n",
    "       ?a rdfs:subClassOf Ornitho:Relation_spatiale_atomique;\n",
    "           rdfs:subClassOf ?b.\n",
    "        ?b owl:onProperty ?c.\n",
    "        ?c ?d ?e \n",
    "\n",
    "       }\n",
    "       \"\"\")\n"
   ]
  },
  {
   "cell_type": "code",
   "execution_count": 232,
   "metadata": {},
   "outputs": [],
   "source": [
    "qres = g.query(\n",
    "    \"\"\"SELECT ?e ?f ?g\n",
    "       WHERE {\n",
    "       ?a rdfs:subClassOf Ornitho:Relation_spatiale_atomique;\n",
    "           ?b ?c.\n",
    "        ?c ?d ?e.\n",
    "        ?e ?f ?g\n",
    "       }\n",
    "       \"\"\")\n"
   ]
  },
  {
   "cell_type": "code",
   "execution_count": 249,
   "metadata": {},
   "outputs": [],
   "source": [
    "qres = g.query(\n",
    "    \"\"\"SELECT ?a ?pythonName\n",
    "       WHERE {\n",
    "       ?a rdfs:subClassOf Ornitho:Relation_spatiale_atomique.\n",
    "       ?a Ornitho:pythonName* ?pythonName\n",
    "       }\n",
    "       \"\"\")"
   ]
  },
  {
   "cell_type": "code",
   "execution_count": 255,
   "metadata": {},
   "outputs": [],
   "source": [
    "qres = g.query(\n",
    "    \"\"\"SELECT ?a ?d ?pythonName\n",
    "       WHERE {\n",
    "       ?a ?b ?c.\n",
    "       ?a rdfs:subClassOf Ornitho:Relation_spatiale_atomique.\n",
    "       ?c owl:onClass ?d.\n",
    "       ?d Ornitho:pythonName ?pythonName\n",
    "       }\n",
    "       \"\"\")"
   ]
  },
  {
   "cell_type": "code",
   "execution_count": 277,
   "metadata": {},
   "outputs": [],
   "source": [
    "qres = g.query(\n",
    "    \"\"\"SELECT ?a ?d ?pythonName\n",
    "       WHERE {\n",
    "       ?a rdfs:subClassOf Ornitho:Relation_spatiale_atomique.\n",
    "       ?a (<>)* ?b.\n",
    "       ?b Ornitho:pythonName ?pythonName.\n",
    "       }\n",
    "       \"\"\")"
   ]
  },
  {
   "cell_type": "code",
   "execution_count": null,
   "metadata": {},
   "outputs": [],
   "source": []
  },
  {
   "cell_type": "code",
   "execution_count": 278,
   "metadata": {
    "scrolled": true
   },
   "outputs": [
    {
     "data": {
      "text/plain": [
       "[]"
      ]
     },
     "execution_count": 278,
     "metadata": {},
     "output_type": "execute_result"
    }
   ],
   "source": [
    "list(qres)"
   ]
  },
  {
   "cell_type": "code",
   "execution_count": 244,
   "metadata": {},
   "outputs": [
    {
     "name": "stdout",
     "output_type": "stream",
     "text": [
      "Contact              Selecteur            Selector            \n",
      "Contact              DistanceEuclidienne  Distance            \n",
      "DistanceQuantitative DistanceEuclidienne  Distance            \n",
      "DistanceQuantitative Selecteur            Selector            \n"
     ]
    }
   ],
   "source": [
    "for i in qres:\n",
    "    print(\"%-20s %-20s %-20s\" % (*[j.split('#')[-1] for j in i],))"
   ]
  },
  {
   "cell_type": "code",
   "execution_count": 1,
   "metadata": {},
   "outputs": [
    {
     "name": "stderr",
     "output_type": "stream",
     "text": [
      "* Owlready2 * Warning: optimized Cython parser module 'owlready2_optimized' is not available, defaulting to slower Python implementation\n"
     ]
    }
   ],
   "source": [
    "from owlready2 import *"
   ]
  },
  {
   "cell_type": "code",
   "execution_count": 2,
   "metadata": {},
   "outputs": [],
   "source": [
    "ontho = get_ontology(\"/home/mbunel/Documents/Code/Ruitor/data/ontologies/relations_spatiales.owl\")"
   ]
  },
  {
   "cell_type": "code",
   "execution_count": 3,
   "metadata": {},
   "outputs": [
    {
     "data": {
      "text/plain": [
       "get_ontology(\"http://www.semanticweb.org/mbunel/ontologies/Ornitho#\")"
      ]
     },
     "execution_count": 3,
     "metadata": {},
     "output_type": "execute_result"
    }
   ],
   "source": [
    "ontho.load()"
   ]
  },
  {
   "cell_type": "code",
   "execution_count": 4,
   "metadata": {
    "scrolled": true
   },
   "outputs": [
    {
     "name": "stdout",
     "output_type": "stream",
     "text": [
      "[] []\n",
      "[relations_spatiales.Metrique] [relations_spatiales.Selecteur]\n",
      "[relations_spatiales.Distance] [relations_spatiales.Selecteur]\n"
     ]
    }
   ],
   "source": [
    "for ch in ontho.Relation_spatiale_atomique.descendants():\n",
    "    met = ch.hasMetrique\n",
    "    sel = ch.hasSelector\n",
    "    print(met, sel)"
   ]
  },
  {
   "cell_type": "code",
   "execution_count": 5,
   "metadata": {},
   "outputs": [],
   "source": [
    "v = list(ontho.Relation_spatiale_atomique.descendants())"
   ]
  },
  {
   "cell_type": "code",
   "execution_count": 6,
   "metadata": {
    "scrolled": true
   },
   "outputs": [
    {
     "data": {
      "text/plain": [
       "[relations_spatiales.DistanceQuantitative,\n",
       " relations_spatiales.Relation_spatiale_atomique,\n",
       " relations_spatiales.Contact]"
      ]
     },
     "execution_count": 6,
     "metadata": {},
     "output_type": "execute_result"
    }
   ],
   "source": [
    "v"
   ]
  },
  {
   "cell_type": "code",
   "execution_count": 11,
   "metadata": {
    "scrolled": true
   },
   "outputs": [],
   "source": [
    "name = v[2].hasSelector[0].pythonName[0]"
   ]
  },
  {
   "cell_type": "code",
   "execution_count": 12,
   "metadata": {},
   "outputs": [
    {
     "data": {
      "text/plain": [
       "'Selector'"
      ]
     },
     "execution_count": 12,
     "metadata": {},
     "output_type": "execute_result"
    }
   ],
   "source": [
    "name"
   ]
  },
  {
   "cell_type": "code",
   "execution_count": 18,
   "metadata": {},
   "outputs": [],
   "source": [
    "class Selector:\n",
    "    def oyh(self):\n",
    "        print(\"oyh\")"
   ]
  },
  {
   "cell_type": "code",
   "execution_count": 22,
   "metadata": {},
   "outputs": [
    {
     "data": {
      "text/plain": [
       "__main__.Selector"
      ]
     },
     "execution_count": 22,
     "metadata": {},
     "output_type": "execute_result"
    }
   ],
   "source": [
    "locals()[name]"
   ]
  },
  {
   "cell_type": "code",
   "execution_count": 17,
   "metadata": {},
   "outputs": [
    {
     "name": "stdout",
     "output_type": "stream",
     "text": [
      "oyh\n"
     ]
    }
   ],
   "source": [
    "globals()[name]().oyh()"
   ]
  }
 ],
 "metadata": {
  "kernelspec": {
   "display_name": "Python 3",
   "language": "python",
   "name": "python3"
  },
  "language_info": {
   "codemirror_mode": {
    "name": "ipython",
    "version": 3
   },
   "file_extension": ".py",
   "mimetype": "text/x-python",
   "name": "python",
   "nbconvert_exporter": "python",
   "pygments_lexer": "ipython3",
   "version": "3.5.2"
  }
 },
 "nbformat": 4,
 "nbformat_minor": 2
}
