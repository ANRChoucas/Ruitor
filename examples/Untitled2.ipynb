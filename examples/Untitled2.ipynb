{
 "cells": [
  {
   "cell_type": "markdown",
   "metadata": {},
   "source": [
    "# Tests ontologie"
   ]
  },
  {
   "cell_type": "code",
   "execution_count": 2,
   "metadata": {},
   "outputs": [
    {
     "name": "stdout",
     "output_type": "stream",
     "text": [
      "/home/mbunel/Documents/Code/Ruitor/src\n"
     ]
    }
   ],
   "source": [
    "cd ~/Documents/Code/Ruitor/src"
   ]
  },
  {
   "cell_type": "code",
   "execution_count": 15,
   "metadata": {},
   "outputs": [],
   "source": [
    "from ontologyTools.Ontology import SROnto\n",
    "from owlready2 import *"
   ]
  },
  {
   "cell_type": "code",
   "execution_count": 16,
   "metadata": {},
   "outputs": [],
   "source": [
    "ontho = SROnto(\"../data/ontologies/relations_spatiales.owl\")"
   ]
  },
  {
   "cell_type": "code",
   "execution_count": 17,
   "metadata": {},
   "outputs": [
    {
     "name": "stderr",
     "output_type": "stream",
     "text": [
      "* Owlready2 * Running HermiT...\n",
      "    java -Xmx2000M -cp /usr/local/lib/python3.6/dist-packages/owlready2/hermit:/usr/local/lib/python3.6/dist-packages/owlready2/hermit/HermiT.jar org.semanticweb.HermiT.cli.CommandLine -c -O -D -I file:////tmp/tmp_pan26z0\n",
      "* Owlready2 * HermiT took 0.5390121936798096 seconds\n",
      "* Owlready * (NB: only changes on entities loaded in Python are shown, other changes are done but not listed)\n"
     ]
    }
   ],
   "source": [
    "sync_reasoner()"
   ]
  },
  {
   "cell_type": "code",
   "execution_count": 18,
   "metadata": {},
   "outputs": [],
   "source": [
    "entre = ontho.get_from_iri(\"http://www.semanticweb.org/mbunel/ontologies/Ornitho#EntreXetY\")"
   ]
  },
  {
   "cell_type": "code",
   "execution_count": 34,
   "metadata": {},
   "outputs": [],
   "source": [
    "aa = entre.isRelationSpatialeOf[0]"
   ]
  },
  {
   "cell_type": "code",
   "execution_count": 41,
   "metadata": {},
   "outputs": [
    {
     "data": {
      "text/plain": [
       "[relations_spatiales.Relation_spatiale,\n",
       " relations_spatiales.isRelationSpatialeOf.some(relations_spatiales.hasSite.min(2, relations_spatiales.Objet_géographique)),\n",
       " relations_spatiales.GeographicObject.only(owl.Nothing),\n",
       " relations_spatiales.isGeographicObjectOf.only(owl.Nothing),\n",
       " relations_spatiales.isCibleOf.only(owl.Nothing),\n",
       " relations_spatiales.hasModifieur.only(owl.Nothing),\n",
       " relations_spatiales.hasPreposition.only(owl.Nothing),\n",
       " relations_spatiales.isRelationSpatialeOf.only(relations_spatiales.hasSite.min(2, relations_spatiales.Objet_géographique))]"
      ]
     },
     "execution_count": 41,
     "metadata": {},
     "output_type": "execute_result"
    }
   ],
   "source": [
    "entre.is_a"
   ]
  }
 ],
 "metadata": {
  "kernelspec": {
   "display_name": "Python 3",
   "language": "python",
   "name": "python3"
  },
  "language_info": {
   "codemirror_mode": {
    "name": "ipython",
    "version": 3
   },
   "file_extension": ".py",
   "mimetype": "text/x-python",
   "name": "python",
   "nbconvert_exporter": "python",
   "pygments_lexer": "ipython3",
   "version": "3.6.9"
  }
 },
 "nbformat": 4,
 "nbformat_minor": 4
}
